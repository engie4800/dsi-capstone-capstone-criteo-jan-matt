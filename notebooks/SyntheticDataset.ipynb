{
  "nbformat": 4,
  "nbformat_minor": 0,
  "metadata": {
    "colab": {
      "provenance": []
    },
    "kernelspec": {
      "name": "python3",
      "display_name": "Python 3"
    },
    "language_info": {
      "name": "python"
    }
  },
  "cells": [
    {
      "cell_type": "code",
      "source": [
        "import torch\n",
        "from torch.utils.data import Dataset\n",
        "import numpy as np\n",
        "import pandas as pd\n",
        "from itertools import product\n",
        "import matplotlib.pyplot as plt"
      ],
      "metadata": {
        "id": "kBRLS5x4b7rG"
      },
      "execution_count": 92,
      "outputs": []
    },
    {
      "cell_type": "code",
      "source": [
        "class MonoHeatmapDataset(Dataset):\n",
        "    def __init__(self, num_samples, width, height, num_clusters, points_per_cluster, nr_of_x_bins, nr_of_y_bins, transform=None):\n",
        "        self.num_samples = num_samples\n",
        "        self.width = width\n",
        "        self.height = height\n",
        "        self.num_clusters = num_clusters\n",
        "        self.points_per_cluster = points_per_cluster\n",
        "        self.nr_of_x_bins = nr_of_x_bins\n",
        "        self.nr_of_y_bins = nr_of_y_bins\n",
        "        self.transform = transform\n",
        "\n",
        "    def __len__(self):\n",
        "        return self.num_samples\n",
        "\n",
        "    def __getitem__(self, idx):\n",
        "        image, label = self.generate_synthetic_heatmap()\n",
        "        if self.transform:\n",
        "            image = self.transform(image)\n",
        "        return image, label\n",
        "\n",
        "    def generate_synthetic_heatmap(self):\n",
        "        # Generate synthetic clicks\n",
        "        synthetic_clicks = []\n",
        "        for _ in range(self.num_clusters):\n",
        "            center = (np.random.randint(0, self.width), np.random.randint(0, self.height))\n",
        "            cov_matrix = np.array([[np.random.rand() * 10, 0], [0, np.random.rand() * 10]])\n",
        "            points = np.random.multivariate_normal(center, cov_matrix, self.points_per_cluster)\n",
        "            synthetic_clicks.extend(points)\n",
        "\n",
        "        # Bin the clicks\n",
        "        width_bins = np.linspace(0, self.width, self.nr_of_x_bins)\n",
        "        height_bins = np.linspace(0, self.height, self.nr_of_y_bins)\n",
        "\n",
        "        click_x_bin = pd.cut([p[0] for p in synthetic_clicks], bins=width_bins, labels=False, include_lowest=True)\n",
        "        click_y_bin = pd.cut([p[1] for p in synthetic_clicks], bins=height_bins, labels=False, include_lowest=True)\n",
        "\n",
        "        # Aggregate clicks into bins\n",
        "        data = pd.DataFrame({'click_x_bin': click_x_bin, 'click_y_bin': click_y_bin})\n",
        "        aggregated_clicks = data.groupby(['click_x_bin', 'click_y_bin']).size().reset_index(name='clicks_sum')\n",
        "\n",
        "        # Pivot to create a heatmap matrix\n",
        "        heatmap_matrix = aggregated_clicks.pivot(index='click_y_bin', columns='click_x_bin', values='clicks_sum').fillna(0).to_numpy()\n",
        "        image = np.uint8(heatmap_matrix * 255 / np.max(heatmap_matrix))\n",
        "\n",
        "        # Assume label is number of clusters for simplicity, adjust as needed\n",
        "        label = num_clusters\n",
        "        # label = self.num_clusters\n",
        "\n",
        "        # START JEAN: make the dimension  correct\n",
        "\n",
        "        n_y = NR_OF_Y_BINS- image.shape[0]\n",
        "        img = torch.Tensor(image)\n",
        "\n",
        "        # total number of zeros to pad\n",
        "        zeros = torch.zeros((n_y, img.shape[1]), dtype=img.dtype)\n",
        "\n",
        "        # number of zeros to pad before the cluster\n",
        "        cut_off = np.random.randint(0,n_y)\n",
        "\n",
        "        result = torch.cat((zeros[:cut_off,:], img), dim=0)\n",
        "        result = torch.cat((result,zeros[cut_off:,:]), dim=0)\n",
        "\n",
        "        n_x = NR_OF_X_BINS- img.shape[1]\n",
        "        zeros = torch.zeros((NR_OF_Y_BINS, n_x), dtype=img.dtype)\n",
        "        # result = torch.cat((zeros, result), dim=1)\n",
        "\n",
        "        cut_off = np.random.randint(0,n_x)\n",
        "\n",
        "        result = torch.cat((zeros[:,:cut_off], result), dim=1)\n",
        "        result = torch.cat((result,zeros[:,cut_off:]), dim=1)\n",
        "\n",
        "        image = result.float().unsqueeze(0)\n",
        "        # END JEAN\n",
        "        # image = torch.from_numpy(image).float().unsqueeze(0)  # Add channel dimension for CNN compatibility\n",
        "        print(image.shape)\n",
        "        return image, label\n"
      ],
      "metadata": {
        "id": "t7lrXmU2nhJp"
      },
      "execution_count": 93,
      "outputs": []
    },
    {
      "cell_type": "code",
      "source": [
        "# Case 1: single (mono product)\n",
        "num_samples = 1000\n",
        "width = 60\n",
        "height = 50\n",
        "num_clusters = 1\n",
        "points_per_cluster = 100\n",
        "NR_OF_X_BINS = 61\n",
        "NR_OF_Y_BINS = 51\n",
        "\n",
        "dataset = MonoHeatmapDataset(num_samples, width, height, num_clusters, points_per_cluster, NR_OF_X_BINS, NR_OF_Y_BINS)\n",
        "\n",
        "# Example: visualizing the first synthetic heatmap and its label\n",
        "import matplotlib.pyplot as plt\n",
        "\n",
        "image, label = dataset[0]\n",
        "plt.imshow(image.squeeze(), cmap='hot')  # Remove channel dimension for plotting\n",
        "plt.title(f'Number of Clusters: {label}')\n",
        "plt.colorbar()\n",
        "plt.show()"
      ],
      "metadata": {
        "colab": {
          "base_uri": "https://localhost:8080/",
          "height": 435
        },
        "id": "s2SarhcmpYKj",
        "outputId": "d1aaf3b2-d5c2-4991-dea1-4fb9f5af7b36"
      },
      "execution_count": 102,
      "outputs": [
        {
          "output_type": "stream",
          "name": "stdout",
          "text": [
            "torch.Size([1, 51, 61])\n"
          ]
        },
        {
          "output_type": "display_data",
          "data": {
            "text/plain": [
              "<Figure size 640x480 with 2 Axes>"
            ],
            "image/png": "[encoded data removed]"
          },
          "metadata": {}
        }
      ]
    },
    {
      "cell_type": "code",
      "source": [
        "class HorizontalHeatmapDataset(Dataset):\n",
        "    def __init__(self, num_samples, width, height, num_clusters, points_per_cluster, nr_of_x_bins, nr_of_y_bins, transform=None):\n",
        "        self.num_samples = num_samples\n",
        "        self.width = width\n",
        "        self.height = height\n",
        "        self.num_clusters = num_clusters\n",
        "        self.points_per_cluster = points_per_cluster\n",
        "        self.nr_of_x_bins = nr_of_x_bins\n",
        "        self.nr_of_y_bins = nr_of_y_bins\n",
        "        self.transform = transform\n",
        "\n",
        "    def __len__(self):\n",
        "        return self.num_samples\n",
        "\n",
        "    def __getitem__(self, idx):\n",
        "        image, label = self.generate_synthetic_heatmap()\n",
        "        if self.transform:\n",
        "            image = self.transform(image)\n",
        "        return image, label\n",
        "\n",
        "    def generate_synthetic_heatmap(self):\n",
        "        # Generate synthetic clicks\n",
        "        synthetic_clicks = []\n",
        "        for _ in range(self.num_clusters):\n",
        "            center = (np.random.randint(0, self.width), np.random.randint(0, self.height))\n",
        "            cov_matrix = np.array([[50, 0], [0, np.random.rand() * 10]])\n",
        "            points = np.random.multivariate_normal(center, cov_matrix, self.points_per_cluster)\n",
        "            synthetic_clicks.extend(points)\n",
        "\n",
        "        # Bin the clicks\n",
        "        width_bins = np.linspace(0, self.width, self.nr_of_x_bins)\n",
        "        height_bins = np.linspace(0, self.height, self.nr_of_y_bins)\n",
        "\n",
        "        click_x_bin = pd.cut([p[0] for p in synthetic_clicks], bins=width_bins, labels=False, include_lowest=True)\n",
        "        click_y_bin = pd.cut([p[1] for p in synthetic_clicks], bins=height_bins, labels=False, include_lowest=True)\n",
        "\n",
        "        # Aggregate clicks into bins\n",
        "        data = pd.DataFrame({'click_x_bin': click_x_bin, 'click_y_bin': click_y_bin})\n",
        "        aggregated_clicks = data.groupby(['click_x_bin', 'click_y_bin']).size().reset_index(name='clicks_sum')\n",
        "\n",
        "        # Pivot to create a heatmap matrix\n",
        "        heatmap_matrix = aggregated_clicks.pivot(index='click_y_bin', columns='click_x_bin', values='clicks_sum').fillna(0).to_numpy()\n",
        "        image = np.uint8(heatmap_matrix * 255 / np.max(heatmap_matrix))\n",
        "\n",
        "        # Assume label is number of clusters for simplicity, adjust as needed\n",
        "        label = num_clusters\n",
        "        # label = self.num_clusters\n",
        "\n",
        "        # START JEAN: make the dimension  correct\n",
        "\n",
        "        # fixing y axis\n",
        "        n_y = NR_OF_Y_BINS- 2*image.shape[0]\n",
        "        img = torch.Tensor(image)\n",
        "\n",
        "        # total number of zeros to pad\n",
        "        cut_off = np.random.randint(0,n_y//2)\n",
        "        if cut_off % 2 == 1:\n",
        "            cut_off += 1\n",
        "        zeros = torch.zeros((n_y, img.shape[1]), dtype=img.dtype)\n",
        "\n",
        "        # number of zeros to pad before the cluster\n",
        "        result = torch.cat((zeros[:cut_off//2,:],img), dim=0)\n",
        "        result = torch.cat((result,zeros[cut_off:,:]), dim=0)\n",
        "        result = torch.cat((result,img), dim=0)\n",
        "        result = torch.cat((result,zeros[:cut_off//2,:]), dim=0)\n",
        "\n",
        "        n_x = NR_OF_X_BINS- img.shape[1]\n",
        "        zeros = torch.zeros((NR_OF_Y_BINS, n_x), dtype=img.dtype)\n",
        "        # result = torch.cat((zeros, result), dim=1)\n",
        "\n",
        "        cut_off = n_x//2\n",
        "\n",
        "        result = torch.cat((zeros[:,:cut_off], result), dim=1)\n",
        "        result = torch.cat((result,zeros[:,cut_off:]), dim=1)\n",
        "\n",
        "        image = result.float().unsqueeze(0)\n",
        "        # END JEAN\n",
        "        # image = torch.from_numpy(image).float().unsqueeze(0)  # Add channel dimension for CNN compatibility\n",
        "        print(image.shape)\n",
        "        return image, label\n"
      ],
      "metadata": {
        "id": "TMYLa3BMqHrT"
      },
      "execution_count": 121,
      "outputs": []
    },
    {
      "cell_type": "code",
      "source": [
        "# Case 2: Horizontal (horizontal oriented pv)\n",
        "num_samples = 1000\n",
        "width = 60\n",
        "height = 50\n",
        "num_clusters = 1\n",
        "points_per_cluster = 100\n",
        "NR_OF_X_BINS = 61\n",
        "NR_OF_Y_BINS = 51\n",
        "\n",
        "dataset = HorizontalHeatmapDataset(num_samples, width, height, num_clusters, points_per_cluster, NR_OF_X_BINS, NR_OF_Y_BINS)\n",
        "\n",
        "image, label = dataset[5]\n",
        "plt.imshow(image.squeeze(), cmap='hot')  # Remove channel dimension for plotting\n",
        "plt.title(f'Number of Clusters: {label}')\n",
        "plt.colorbar()\n",
        "plt.show()"
      ],
      "metadata": {
        "colab": {
          "base_uri": "https://localhost:8080/",
          "height": 453
        },
        "id": "VeC1dSZ1n_IO",
        "outputId": "a52f7f1a-fc27-4182-f2d1-afb76a9462fe"
      },
      "execution_count": 122,
      "outputs": [
        {
          "output_type": "stream",
          "name": "stdout",
          "text": [
            "torch.Size([51, 27])\n",
            "torch.Size([1, 51, 61])\n"
          ]
        },
        {
          "output_type": "display_data",
          "data": {
            "text/plain": [
              "<Figure size 640x480 with 2 Axes>"
            ],
            "image/png": "[encoded data removed]"
          },
          "metadata": {}
        }
      ]
    },
    {
      "cell_type": "code",
      "source": [
        "class VerticalHeatmapDataset(Dataset):\n",
        "    def __init__(self, num_samples, width, height, num_clusters, points_per_cluster, nr_of_x_bins, nr_of_y_bins, transform=None):\n",
        "        self.num_samples = num_samples\n",
        "        self.width = width\n",
        "        self.height = height\n",
        "        self.num_clusters = num_clusters\n",
        "        self.points_per_cluster = points_per_cluster\n",
        "        self.nr_of_x_bins = nr_of_x_bins\n",
        "        self.nr_of_y_bins = nr_of_y_bins\n",
        "        self.transform = transform\n",
        "\n",
        "    def __len__(self):\n",
        "        return self.num_samples\n",
        "\n",
        "    def __getitem__(self, idx):\n",
        "        image, label = self.generate_synthetic_heatmap()\n",
        "        if self.transform:\n",
        "            image = self.transform(image)\n",
        "        return image, label\n",
        "\n",
        "    def generate_synthetic_heatmap(self):\n",
        "        # Generate synthetic clicks\n",
        "        synthetic_clicks = []\n",
        "        for _ in range(self.num_clusters):\n",
        "            center = (np.random.randint(0, self.width), np.random.randint(0, self.height))\n",
        "            cov_matrix = np.array([[np.random.rand() * 10, 0], [0, 50]])\n",
        "            points = np.random.multivariate_normal(center, cov_matrix, self.points_per_cluster)\n",
        "            synthetic_clicks.extend(points)\n",
        "\n",
        "        # Bin the clicks\n",
        "        width_bins = np.linspace(0, self.width, self.nr_of_x_bins)\n",
        "        height_bins = np.linspace(0, self.height, self.nr_of_y_bins)\n",
        "\n",
        "        click_x_bin = pd.cut([p[0] for p in synthetic_clicks], bins=width_bins, labels=False, include_lowest=True)\n",
        "        click_y_bin = pd.cut([p[1] for p in synthetic_clicks], bins=height_bins, labels=False, include_lowest=True)\n",
        "\n",
        "        # Aggregate clicks into bins\n",
        "        data = pd.DataFrame({'click_x_bin': click_x_bin, 'click_y_bin': click_y_bin})\n",
        "        aggregated_clicks = data.groupby(['click_x_bin', 'click_y_bin']).size().reset_index(name='clicks_sum')\n",
        "\n",
        "        # Pivot to create a heatmap matrix\n",
        "        heatmap_matrix = aggregated_clicks.pivot(index='click_y_bin', columns='click_x_bin', values='clicks_sum').fillna(0).to_numpy()\n",
        "        image = np.uint8(heatmap_matrix * 255 / np.max(heatmap_matrix))\n",
        "\n",
        "        # Assume label is number of clusters for simplicity, adjust as needed\n",
        "        label = num_clusters\n",
        "        # label = self.num_clusters\n",
        "\n",
        "        # START JEAN: make the dimension  correct\n",
        "\n",
        "        # fixing x axis\n",
        "        n_x = NR_OF_X_BINS- 2*image.shape[1]\n",
        "        # img = torch.Tensor(image)\n",
        "\n",
        "        # # total number of zeros to pad\n",
        "        # zeros = torch.zeros((img.shape[0],n_x), dtype=img.dtype)\n",
        "\n",
        "        # # number of zeros to pad before the cluster\n",
        "        # result = torch.cat((img,zeros), dim=1)\n",
        "        # result = torch.cat((result,img), dim=1)\n",
        "\n",
        "\n",
        "        # total number of zeros to pad\n",
        "        cut_off = np.random.randint(0,n_x//2)\n",
        "        if cut_off % 2 == 1:\n",
        "            cut_off += 1\n",
        "        img = torch.Tensor(image)\n",
        "        zeros = torch.zeros((img.shape[0],n_x), dtype=img.dtype)\n",
        "\n",
        "        # number of zeros to pad before the cluster\n",
        "        result = torch.cat((zeros[:,:cut_off//2],img), dim=1)\n",
        "        result = torch.cat((result,zeros[:,cut_off:]), dim=1)\n",
        "        result = torch.cat((result,img), dim=1)\n",
        "        result = torch.cat((result,zeros[:,:cut_off//2]), dim=1)\n",
        "\n",
        "\n",
        "        # fixing y axis\n",
        "        n_y = NR_OF_Y_BINS- img.shape[0]\n",
        "        zeros = torch.zeros((n_y,NR_OF_X_BINS), dtype=img.dtype)\n",
        "        # result = torch.cat((zeros, result), dim=1)\n",
        "\n",
        "        cut_off = n_y//2\n",
        "\n",
        "        result = torch.cat((zeros[:cut_off,:], result), dim=0)\n",
        "        result = torch.cat((result,zeros[cut_off:,:]), dim=0)\n",
        "\n",
        "        image = result.float().unsqueeze(0)\n",
        "        # END JEAN\n",
        "        # image = torch.from_numpy(image).float().unsqueeze(0)  # Add channel dimension for CNN compatibility\n",
        "        print(image.shape)\n",
        "        return image, label\n"
      ],
      "metadata": {
        "id": "gvLb3kbys6Vp"
      },
      "execution_count": 133,
      "outputs": []
    },
    {
      "cell_type": "code",
      "source": [
        "# Case 3: Vertical (vertical oriented pv)\n",
        "num_samples = 1000\n",
        "width = 60\n",
        "height = 50\n",
        "num_clusters = 1\n",
        "points_per_cluster = 100\n",
        "NR_OF_X_BINS = 61\n",
        "NR_OF_Y_BINS = 51\n",
        "\n",
        "dataset = VerticalHeatmapDataset(num_samples, width, height, num_clusters, points_per_cluster, NR_OF_X_BINS, NR_OF_Y_BINS)\n",
        "\n",
        "image, label = dataset[10]\n",
        "plt.imshow(image.squeeze(), cmap='hot')  # Remove channel dimension for plotting\n",
        "plt.title(f'Number of Clusters: {label}')\n",
        "plt.colorbar()\n",
        "plt.show()"
      ],
      "metadata": {
        "colab": {
          "base_uri": "https://localhost:8080/",
          "height": 453
        },
        "id": "uu-6Cu-YtEE8",
        "outputId": "d07d68cf-a879-4c1b-cded-57d26fa535dd"
      },
      "execution_count": 135,
      "outputs": [
        {
          "output_type": "stream",
          "name": "stdout",
          "text": [
            "1\n",
            "torch.Size([1, 51, 61])\n"
          ]
        },
        {
          "output_type": "display_data",
          "data": {
            "text/plain": [
              "<Figure size 640x480 with 2 Axes>"
            ],
            "image/png": "[encoded data removed]"
          },
          "metadata": {}
        }
      ]
    },
    {
      "cell_type": "code",
      "source": [
        "image, label = dataset[30]\n",
        "plt.imshow(image.squeeze(), cmap='hot')  # Remove channel dimension for plotting\n",
        "plt.title(f'Number of Clusters: {label}')\n",
        "plt.colorbar()\n",
        "plt.show()"
      ],
      "metadata": {
        "colab": {
          "base_uri": "https://localhost:8080/",
          "height": 435
        },
        "id": "Rwuj8Tw100Hg",
        "outputId": "e83e1c6e-9e8e-49c4-829c-2612da8a4046"
      },
      "execution_count": 130,
      "outputs": [
        {
          "output_type": "stream",
          "name": "stdout",
          "text": [
            "torch.Size([1, 51, 61])\n"
          ]
        },
        {
          "output_type": "display_data",
          "data": {
            "text/plain": [
              "<Figure size 640x480 with 2 Axes>"
            ],
            "image/png": "[encoded data removed]"
          },
          "metadata": {}
        }
      ]
    },
    {
      "cell_type": "code",
      "source": [
        "class MultiHeatmapDataset(Dataset):\n",
        "    def __init__(self, num_samples, width, height, num_clusters, points_per_cluster, nr_of_x_bins, nr_of_y_bins, nr_rep, transform=None):\n",
        "        self.num_samples = num_samples\n",
        "        self.width = width\n",
        "        self.height = height\n",
        "        self.num_clusters = num_clusters\n",
        "        self.points_per_cluster = points_per_cluster\n",
        "        self.nr_of_x_bins = nr_of_x_bins\n",
        "        self.nr_of_y_bins = nr_of_y_bins\n",
        "        self.transform = transform\n",
        "        self.nr_rep = nr_rep\n",
        "\n",
        "    def __len__(self):\n",
        "        return self.num_samples\n",
        "\n",
        "    def __getitem__(self, idx):\n",
        "        image, label = self.generate_synthetic_heatmap()\n",
        "        if self.transform:\n",
        "            image = self.transform(image)\n",
        "        return image, label\n",
        "\n",
        "    def generate_synthetic_heatmap(self):\n",
        "        # Generate synthetic clicks\n",
        "        synthetic_clicks = []\n",
        "        for _ in range(self.num_clusters):\n",
        "            center = (np.random.randint(0, self.width), np.random.randint(0, self.height))\n",
        "            cov_matrix = np.array([[np.random.rand() * 10, 0], [0, np.random.rand() * 10]])\n",
        "            points = np.random.multivariate_normal(center, cov_matrix, self.points_per_cluster)\n",
        "            synthetic_clicks.extend(points)\n",
        "\n",
        "        # Bin the clicks\n",
        "        width_bins = np.linspace(0, self.width, self.nr_of_x_bins)\n",
        "        height_bins = np.linspace(0, self.height, self.nr_of_y_bins)\n",
        "\n",
        "        click_x_bin = pd.cut([p[0] for p in synthetic_clicks], bins=width_bins, labels=False, include_lowest=True)\n",
        "        click_y_bin = pd.cut([p[1] for p in synthetic_clicks], bins=height_bins, labels=False, include_lowest=True)\n",
        "\n",
        "        # Aggregate clicks into bins\n",
        "        data = pd.DataFrame({'click_x_bin': click_x_bin, 'click_y_bin': click_y_bin})\n",
        "        aggregated_clicks = data.groupby(['click_x_bin', 'click_y_bin']).size().reset_index(name='clicks_sum')\n",
        "\n",
        "        # Pivot to create a heatmap matrix\n",
        "        heatmap_matrix = aggregated_clicks.pivot(index='click_y_bin', columns='click_x_bin', values='clicks_sum').fillna(0).to_numpy()\n",
        "        image = np.uint8(heatmap_matrix * 255 / np.max(heatmap_matrix))\n",
        "\n",
        "        # Assume label is number of clusters for simplicity, adjust as needed\n",
        "        label = num_clusters\n",
        "        # label = self.num_clusters\n",
        "\n",
        "        # START JEAN: make the dimension  correct\n",
        "\n",
        "        n_y = NR_OF_Y_BINS- self.nr_rep * image.shape[0]\n",
        "        img = torch.Tensor(image)\n",
        "\n",
        "        # total number of zeros to pad\n",
        "        zeros = torch.zeros((n_y, img.shape[1]), dtype=img.dtype)\n",
        "\n",
        "        # number of zeros to pad before the cluster\n",
        "        cut_off = n_y//(self.nr_rep + 1)\n",
        "\n",
        "        result = img.clone()\n",
        "        result = torch.cat((zeros[:cut_off,:], result), dim=0) # pad zeroes before cluster\n",
        "\n",
        "        for i in range(self.nr_rep - 1): # pad zeroes then add new cluster\n",
        "            result = torch.cat((result,zeros[:cut_off,:]), dim=0)\n",
        "            result = torch.cat((result,img), dim=0)\n",
        "\n",
        "        result = torch.cat((result, zeros[:cut_off,:]), dim=0) # pad zeroes after last cluster\n",
        "\n",
        "        n_x = NR_OF_X_BINS- img.shape[1]\n",
        "        zeros = torch.zeros((NR_OF_Y_BINS, n_x), dtype=img.dtype)\n",
        "        # result = torch.cat((zeros, result), dim=1)\n",
        "\n",
        "        cut_off = np.random.randint(0,n_x)\n",
        "\n",
        "        result = torch.cat((zeros[:,:cut_off], result), dim=1)\n",
        "        result = torch.cat((result,zeros[:,cut_off:]), dim=1)\n",
        "\n",
        "        image = result.float().unsqueeze(0)\n",
        "        # END JEAN\n",
        "        # image = torch.from_numpy(image).float().unsqueeze(0)  # Add channel dimension for CNN compatibility\n",
        "        print(image.shape)\n",
        "        return image, label\n"
      ],
      "metadata": {
        "id": "Yq7HsBzxtzL1"
      },
      "execution_count": 99,
      "outputs": []
    },
    {
      "cell_type": "code",
      "source": [
        "# Case 4: Repeated grid\n",
        "num_samples = 1000\n",
        "width = 60\n",
        "height = 50\n",
        "num_clusters = 1\n",
        "points_per_cluster = 100\n",
        "NR_OF_X_BINS = 61\n",
        "NR_OF_Y_BINS = 51\n",
        "nr_rep = 2\n",
        "\n",
        "dataset = MultiHeatmapDataset(num_samples, width, height, num_clusters, points_per_cluster, NR_OF_X_BINS, NR_OF_Y_BINS, nr_rep)\n",
        "\n",
        "image, label = dataset[3]\n",
        "plt.imshow(image.squeeze(), cmap='hot')  # Remove channel dimension for plotting\n",
        "plt.title(f'Number of Clusters: {label}')\n",
        "plt.colorbar()\n",
        "plt.show()"
      ],
      "metadata": {
        "colab": {
          "base_uri": "https://localhost:8080/",
          "height": 356
        },
        "id": "s1vAsjGRv2ht",
        "outputId": "9b0b0d83-d071-44c1-d28b-35f92e005263"
      },
      "execution_count": 100,
      "outputs": [
        {
          "output_type": "error",
          "ename": "RuntimeError",
          "evalue": "Sizes of tensors must match except in dimension 1. Expected size 51 but got size 49 for tensor number 1 in the list.",
          "traceback": [
            "\u001b[0;31m---------------------------------------------------------------------------\u001b[0m",
            "\u001b[0;31mRuntimeError\u001b[0m                              Traceback (most recent call last)",
            "\u001b[0;32m<ipython-input-100-e6566b273633>\u001b[0m in \u001b[0;36m<cell line: 13>\u001b[0;34m()\u001b[0m\n\u001b[1;32m     11\u001b[0m \u001b[0mdataset\u001b[0m \u001b[0;34m=\u001b[0m \u001b[0mMultiHeatmapDataset\u001b[0m\u001b[0;34m(\u001b[0m\u001b[0mnum_samples\u001b[0m\u001b[0;34m,\u001b[0m \u001b[0mwidth\u001b[0m\u001b[0;34m,\u001b[0m \u001b[0mheight\u001b[0m\u001b[0;34m,\u001b[0m \u001b[0mnum_clusters\u001b[0m\u001b[0;34m,\u001b[0m \u001b[0mpoints_per_cluster\u001b[0m\u001b[0;34m,\u001b[0m \u001b[0mNR_OF_X_BINS\u001b[0m\u001b[0;34m,\u001b[0m \u001b[0mNR_OF_Y_BINS\u001b[0m\u001b[0;34m,\u001b[0m \u001b[0mnr_rep\u001b[0m\u001b[0;34m)\u001b[0m\u001b[0;34m\u001b[0m\u001b[0;34m\u001b[0m\u001b[0m\n\u001b[1;32m     12\u001b[0m \u001b[0;34m\u001b[0m\u001b[0m\n\u001b[0;32m---> 13\u001b[0;31m \u001b[0mimage\u001b[0m\u001b[0;34m,\u001b[0m \u001b[0mlabel\u001b[0m \u001b[0;34m=\u001b[0m \u001b[0mdataset\u001b[0m\u001b[0;34m[\u001b[0m\u001b[0;36m3\u001b[0m\u001b[0;34m]\u001b[0m\u001b[0;34m\u001b[0m\u001b[0;34m\u001b[0m\u001b[0m\n\u001b[0m\u001b[1;32m     14\u001b[0m \u001b[0mplt\u001b[0m\u001b[0;34m.\u001b[0m\u001b[0mimshow\u001b[0m\u001b[0;34m(\u001b[0m\u001b[0mimage\u001b[0m\u001b[0;34m.\u001b[0m\u001b[0msqueeze\u001b[0m\u001b[0;34m(\u001b[0m\u001b[0;34m)\u001b[0m\u001b[0;34m,\u001b[0m \u001b[0mcmap\u001b[0m\u001b[0;34m=\u001b[0m\u001b[0;34m'hot'\u001b[0m\u001b[0;34m)\u001b[0m  \u001b[0;31m# Remove channel dimension for plotting\u001b[0m\u001b[0;34m\u001b[0m\u001b[0;34m\u001b[0m\u001b[0m\n\u001b[1;32m     15\u001b[0m \u001b[0mplt\u001b[0m\u001b[0;34m.\u001b[0m\u001b[0mtitle\u001b[0m\u001b[0;34m(\u001b[0m\u001b[0;34mf'Number of Clusters: {label}'\u001b[0m\u001b[0;34m)\u001b[0m\u001b[0;34m\u001b[0m\u001b[0;34m\u001b[0m\u001b[0m\n",
            "\u001b[0;32m<ipython-input-99-2445fb8c560f>\u001b[0m in \u001b[0;36m__getitem__\u001b[0;34m(self, idx)\u001b[0m\n\u001b[1;32m     15\u001b[0m \u001b[0;34m\u001b[0m\u001b[0m\n\u001b[1;32m     16\u001b[0m     \u001b[0;32mdef\u001b[0m \u001b[0m__getitem__\u001b[0m\u001b[0;34m(\u001b[0m\u001b[0mself\u001b[0m\u001b[0;34m,\u001b[0m \u001b[0midx\u001b[0m\u001b[0;34m)\u001b[0m\u001b[0;34m:\u001b[0m\u001b[0;34m\u001b[0m\u001b[0;34m\u001b[0m\u001b[0m\n\u001b[0;32m---> 17\u001b[0;31m         \u001b[0mimage\u001b[0m\u001b[0;34m,\u001b[0m \u001b[0mlabel\u001b[0m \u001b[0;34m=\u001b[0m \u001b[0mself\u001b[0m\u001b[0;34m.\u001b[0m\u001b[0mgenerate_synthetic_heatmap\u001b[0m\u001b[0;34m(\u001b[0m\u001b[0;34m)\u001b[0m\u001b[0;34m\u001b[0m\u001b[0;34m\u001b[0m\u001b[0m\n\u001b[0m\u001b[1;32m     18\u001b[0m         \u001b[0;32mif\u001b[0m \u001b[0mself\u001b[0m\u001b[0;34m.\u001b[0m\u001b[0mtransform\u001b[0m\u001b[0;34m:\u001b[0m\u001b[0;34m\u001b[0m\u001b[0;34m\u001b[0m\u001b[0m\n\u001b[1;32m     19\u001b[0m             \u001b[0mimage\u001b[0m \u001b[0;34m=\u001b[0m \u001b[0mself\u001b[0m\u001b[0;34m.\u001b[0m\u001b[0mtransform\u001b[0m\u001b[0;34m(\u001b[0m\u001b[0mimage\u001b[0m\u001b[0;34m)\u001b[0m\u001b[0;34m\u001b[0m\u001b[0;34m\u001b[0m\u001b[0m\n",
            "\u001b[0;32m<ipython-input-99-2445fb8c560f>\u001b[0m in \u001b[0;36mgenerate_synthetic_heatmap\u001b[0;34m(self)\u001b[0m\n\u001b[1;32m     74\u001b[0m         \u001b[0mcut_off\u001b[0m \u001b[0;34m=\u001b[0m \u001b[0mnp\u001b[0m\u001b[0;34m.\u001b[0m\u001b[0mrandom\u001b[0m\u001b[0;34m.\u001b[0m\u001b[0mrandint\u001b[0m\u001b[0;34m(\u001b[0m\u001b[0;36m0\u001b[0m\u001b[0;34m,\u001b[0m\u001b[0mn_x\u001b[0m\u001b[0;34m)\u001b[0m\u001b[0;34m\u001b[0m\u001b[0;34m\u001b[0m\u001b[0m\n\u001b[1;32m     75\u001b[0m \u001b[0;34m\u001b[0m\u001b[0m\n\u001b[0;32m---> 76\u001b[0;31m         \u001b[0mresult\u001b[0m \u001b[0;34m=\u001b[0m \u001b[0mtorch\u001b[0m\u001b[0;34m.\u001b[0m\u001b[0mcat\u001b[0m\u001b[0;34m(\u001b[0m\u001b[0;34m(\u001b[0m\u001b[0mzeros\u001b[0m\u001b[0;34m[\u001b[0m\u001b[0;34m:\u001b[0m\u001b[0;34m,\u001b[0m\u001b[0;34m:\u001b[0m\u001b[0mcut_off\u001b[0m\u001b[0;34m]\u001b[0m\u001b[0;34m,\u001b[0m \u001b[0mresult\u001b[0m\u001b[0;34m)\u001b[0m\u001b[0;34m,\u001b[0m \u001b[0mdim\u001b[0m\u001b[0;34m=\u001b[0m\u001b[0;36m1\u001b[0m\u001b[0;34m)\u001b[0m\u001b[0;34m\u001b[0m\u001b[0;34m\u001b[0m\u001b[0m\n\u001b[0m\u001b[1;32m     77\u001b[0m         \u001b[0mresult\u001b[0m \u001b[0;34m=\u001b[0m \u001b[0mtorch\u001b[0m\u001b[0;34m.\u001b[0m\u001b[0mcat\u001b[0m\u001b[0;34m(\u001b[0m\u001b[0;34m(\u001b[0m\u001b[0mresult\u001b[0m\u001b[0;34m,\u001b[0m\u001b[0mzeros\u001b[0m\u001b[0;34m[\u001b[0m\u001b[0;34m:\u001b[0m\u001b[0;34m,\u001b[0m\u001b[0mcut_off\u001b[0m\u001b[0;34m:\u001b[0m\u001b[0;34m]\u001b[0m\u001b[0;34m)\u001b[0m\u001b[0;34m,\u001b[0m \u001b[0mdim\u001b[0m\u001b[0;34m=\u001b[0m\u001b[0;36m1\u001b[0m\u001b[0;34m)\u001b[0m\u001b[0;34m\u001b[0m\u001b[0;34m\u001b[0m\u001b[0m\n\u001b[1;32m     78\u001b[0m \u001b[0;34m\u001b[0m\u001b[0m\n",
            "\u001b[0;31mRuntimeError\u001b[0m: Sizes of tensors must match except in dimension 1. Expected size 51 but got size 49 for tensor number 1 in the list."
          ]
        }
      ]
    }
  ]
}