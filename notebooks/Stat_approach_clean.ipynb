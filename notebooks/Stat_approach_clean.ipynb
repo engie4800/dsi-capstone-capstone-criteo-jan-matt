{
 "cells": [
  {
   "cell_type": "markdown",
   "id": "22e098d9",
   "metadata": {},
   "source": [
    "TODO:\n",
    "- [ ] threshold of [-1000,1000]  to make normalizing robust - and test on new data\n",
    "- [ ] visualize FN and FP and attach number of clicks for these misclassifications\n",
    "- [ ] Compare with uniform distribution (because UD can better detect certain FN, like the plot with clicks all on one pixel) - maybe combine both with a certain weight to get a new representative bad heatmap\n",
    "- [ ] bad data (H_0 banner is bad) vs uniform distribution (H_1 data is non-bad)\n",
    "\n",
    "\n",
    "final output\n",
    "- [ ] visualize FN and FP and attach number of clicks for these misclassifications"
   ]
  },
  {
   "cell_type": "markdown",
   "id": "97d50dc8",
   "metadata": {},
   "source": [
    "Functions: \n",
    "```{python}\n",
    "all_preds = generate_all_preds(outputs, min, max)\n",
    "plot_heatmaps(heatmap_list)\n",
    "plot_roc_curve(all_labels, all_preds)\n",
    "all_f1, best_f1, best_thresh = calculate_all_f1(all_labels, all_preds)\n",
    "all_outputs = combine_all_outputs(output_list)\n",
    "fn, fp = identify_misclassified_banners(domains, preds, labels, thresh)\n",
    "```"
   ]
  },
  {
   "cell_type": "markdown",
   "id": "7eca7bdb",
   "metadata": {},
   "source": [
    "# 1. Import data"
   ]
  },
  {
   "cell_type": "code",
   "execution_count": null,
   "id": "6c158a0c",
   "metadata": {},
   "outputs": [],
   "source": [
    "import pandas as pd\n",
    "import numpy as np\n",
    "import matplotlib.pyplot as plt\n",
    "import seaborn as sns\n",
    "import warnings\n",
    "import time\n",
    "import matplotlib.pyplot as plt\n",
    "from sklearn.metrics import confusion_matrix\n",
    "from sklearn.metrics import roc_curve, roc_auc_score\n",
    "from sklearn.metrics import f1_score\n",
    "warnings.filterwarnings('ignore')"
   ]
  },
  {
   "cell_type": "code",
   "execution_count": null,
   "id": "9801dd71",
   "metadata": {
    "scrolled": false
   },
   "outputs": [],
   "source": [
    "data_heatmap = pd.read_csv('../datasets/A_data_heatmap_300x250_3p.csv')\n",
    "data_metrics = pd.read_csv('../datasets/A_data_domain_perf_metrics_300x250_3p.csv')\n",
    "data_heatmap_new1 = pd.read_csv('../datasets/A_data_heatmap_300x250_6p_h2m.csv')\n",
    "data_heatmap_new2 = pd.read_csv('../datasets/A_data_heatmap_300x250_6p_t2m.csv')"
   ]
  },
  {
   "cell_type": "code",
   "execution_count": null,
   "id": "323fd561",
   "metadata": {},
   "outputs": [],
   "source": [
    "data_metrics_6p = pd.read_csv('../datasets/A_data_domain_perf_metrics_300x250_6p.csv')"
   ]
  },
  {
   "cell_type": "code",
   "execution_count": null,
   "id": "b92aee75",
   "metadata": {},
   "outputs": [],
   "source": [
    "data_heatmap_6p = pd.concat([data_heatmap_new1,data_heatmap_new2],axis=0).drop(columns=['click_x_rel','click_y_rel'])"
   ]
  },
  {
   "cell_type": "code",
   "execution_count": null,
   "id": "445b35fa",
   "metadata": {},
   "outputs": [],
   "source": [
    "# importing broken banners\n",
    "cb_333519 = ['ID_1184', 'ID_1281', 'ID_1305', 'ID_1353', 'ID_1448', 'ID_1522',\n",
    "       'ID_1544', 'ID_162', 'ID_1682', 'ID_1690', 'ID_1824', 'ID_1888',\n",
    "       'ID_1929', 'ID_2076', 'ID_2097', 'ID_2226', 'ID_2249', 'ID_2268',\n",
    "       'ID_2331', 'ID_2339', 'ID_2386', 'ID_2396', 'ID_2438', 'ID_258',\n",
    "       'ID_2609', 'ID_2680', 'ID_2863', 'ID_2883', 'ID_2908', 'ID_3061',\n",
    "       'ID_3243', 'ID_3250', 'ID_3314', 'ID_3382', 'ID_3397', 'ID_3402',\n",
    "       'ID_3420', 'ID_3459', 'ID_3470', 'ID_3540', 'ID_398', 'ID_409',\n",
    "       'ID_484', 'ID_489', 'ID_526', 'ID_549', 'ID_580', 'ID_665',\n",
    "       'ID_810', 'ID_84', 'ID_857', 'ID_86', 'ID_905', 'ID_927', 'ID_934',\n",
    "       'ID_962', 'ID_986']\n",
    "\n",
    "cb_333346 = ['ID_1247', 'ID_162', 'ID_2534', 'ID_2742', 'ID_526', 'ID_2201',\n",
    "       'ID_1165', 'ID_743', 'ID_199', 'ID_2145', 'ID_2569', 'ID_643',\n",
    "       'ID_1305', 'ID_3180', 'ID_3158', 'ID_136', 'ID_293', 'ID_1753',\n",
    "       'ID_1849', 'ID_2226', 'ID_1462', 'ID_626', 'ID_2863', 'ID_3243',\n",
    "       'ID_3250', 'ID_1708', 'ID_1238', 'ID_580', 'ID_84', 'ID_2568',\n",
    "       'ID_2340', 'ID_1803', 'ID_3470', 'ID_139', 'ID_2619', 'ID_2908',\n",
    "       'ID_1281', 'ID_3308', 'ID_2883', 'ID_1320', 'ID_1333', 'ID_1062',\n",
    "       'ID_149', 'ID_260', 'ID_599', 'ID_1513', 'ID_3402', 'ID_1888',\n",
    "       'ID_2972', 'ID_398', 'ID_2339', 'ID_1030', 'ID_3382', 'ID_2076',\n",
    "       'ID_1646', 'ID_1077', 'ID_10', 'ID_1153', 'ID_1533', 'ID_2609',\n",
    "       'ID_1214', 'ID_810', 'ID_2097', 'ID_2386', 'ID_1585', 'ID_549',\n",
    "       'ID_3420', 'ID_3397', 'ID_2006', 'ID_561', 'ID_1542', 'ID_1570',\n",
    "       'ID_1819', 'ID_1413', 'ID_1240', 'ID_793', 'ID_831', 'ID_3188',\n",
    "       'ID_1437', 'ID_556', 'ID_1134', 'ID_314', 'ID_2836', 'ID_1483',\n",
    "       'ID_2676', 'ID_665', 'ID_15', 'ID_2755', 'ID_2194', 'ID_1682',\n",
    "       'ID_2775', 'ID_1923', 'ID_1846', 'ID_1262', 'ID_3314', 'ID_1448',\n",
    "       'ID_1770', 'ID_2626', 'ID_3296', 'ID_489', 'ID_1963', 'ID_1268',\n",
    "       'ID_1568', 'ID_1094', 'ID_2267', 'ID_409', 'ID_1650', 'ID_1522',\n",
    "       'ID_927', 'ID_2302', 'ID_1929', 'ID_1435', 'ID_1353']\n",
    "\n",
    "cb_333346_6p = ['ID_106', 'ID_1108', 'ID_1111', 'ID_1150', 'ID_1217', 'ID_136', \n",
    "             'ID_1542', 'ID_1589', 'ID_1602', 'ID_185', 'ID_1908', 'ID_1915', \n",
    "             'ID_1916', 'ID_1971',  'ID_2015', 'ID_2063', 'ID_2133', 'ID_2143', \n",
    "             'ID_2336', 'ID_2337', 'ID_2368', 'ID_243', 'ID_245', 'ID_2553', \n",
    "             'ID_2564', 'ID_2635', 'ID_2636', 'ID_267', 'ID_2693', 'ID_27', \n",
    "             'ID_2737', 'ID_2750', 'ID_2762', 'ID_2867', 'ID_2924', 'ID_2933', \n",
    "             'ID_2977', 'ID_3172', 'ID_3219', 'ID_324', 'ID_3268', 'ID_333', \n",
    "             'ID_3334', 'ID_3487', 'ID_3526', 'ID_3535', 'ID_3567', 'ID_3605', \n",
    "             'ID_362', 'ID_3633', 'ID_3640', 'ID_365', 'ID_367', 'ID_3672', \n",
    "             'ID_3699', 'ID_3730', 'ID_3809', 'ID_3837', 'ID_3848', 'ID_3920', \n",
    "             'ID_3939', 'ID_3982', 'ID_401', 'ID_4042', 'ID_4058', 'ID_4072', \n",
    "             'ID_4076', 'ID_4199', 'ID_4206', 'ID_4224', 'ID_4378', 'ID_4507', \n",
    "             'ID_466', 'ID_494', 'ID_539', 'ID_62', 'ID_727', 'ID_737', \n",
    "             'ID_861', 'ID_876', 'ID_889', 'ID_90', 'ID_922', 'ID_949', \n",
    "             'ID_981', 'ID_993']\n",
    "\n",
    "cb_333519_6p = ['ID_1081', 'ID_1150', 'ID_1464', 'ID_1518', 'ID_1622', 'ID_1623', \n",
    "                'ID_1624', 'ID_1631', 'ID_1678', 'ID_1623', 'ID_1731', 'ID_1752', \n",
    "                'ID_1764', 'ID_1795', 'ID_1915', 'ID_1916', 'ID_1971', 'ID_198', \n",
    "                'ID_2018', 'ID_204', 'ID_2044', 'ID_2104', 'ID_2108', 'ID_2109', \n",
    "                'ID_2146', 'ID_2251', 'ID_2330', 'ID_2336', 'ID_2381', 'ID_2383', \n",
    "                'ID_2400', 'ID_2616', 'ID_2636', 'ID_2749', 'ID_2766', 'ID_2779', \n",
    "                'ID_2809', 'ID_284', 'ID_2875', 'ID_2881', 'ID_30', 'ID_3021', \n",
    "                'ID_3049', 'ID_3098', 'ID_3178', 'ID_3183', 'ID_3219', 'ID_3232', \n",
    "                'ID_3561', 'ID_3644', 'ID_365', 'ID_3850', 'ID_389', 'ID_4025', \n",
    "                'ID_4036', 'ID_4050', 'ID_4058', 'ID_4075', 'ID_4113', 'ID_4122', \n",
    "                'ID_4255', 'ID_4257', 'ID_4275', 'ID_4347', 'ID_44', 'ID_4506', \n",
    "                'ID_4567', 'ID_618', 'ID_727', 'ID_737', 'ID_922', 'ID_950', \n",
    "                'ID_960', 'ID_969']\n",
    "\n",
    "cb_333346_6p = ['ID_106', 'ID_1003', 'ID_1081', 'ID_1108', 'ID_1111', 'ID_1150', 'ID_1217', 'ID_1303', 'ID_1347', \n",
    "                'ID_136', 'ID_1464', 'ID_1542', 'ID_1579', 'ID_1589', 'ID_1602', 'ID_1624','ID_1640', 'ID_1731',\n",
    "                'ID_185', 'ID_1902', 'ID_1908', 'ID_1915', 'ID_1916', 'ID_1917','ID_1971', 'ID_1974', 'ID_2015', \n",
    "                'ID_2063', 'ID_2077', 'ID_2099', 'ID_2104', 'ID_2108', 'ID_2133', 'ID_2143', 'ID_2214', 'ID_2242',\n",
    "                'ID_2279', 'ID_2336', 'ID_2337', 'ID_2368', 'ID_2400', 'ID_2404', 'ID_243', 'ID_2435', 'ID_245', \n",
    "                'ID_2553', 'ID_2564', 'ID_2598', 'ID_2626', 'ID_2627', 'ID_2635', 'ID_2636', 'ID_2648', 'ID_267', \n",
    "                'ID_2693', 'ID_27', 'ID_2737', 'ID_2750', 'ID_2760', 'ID_2762', 'ID_2766', 'ID_2779', 'ID_2809', \n",
    "                'ID_2867', 'ID_2881', 'ID_2924', 'ID_2933', 'ID_2977', 'ID_3019', 'ID_3098', 'ID_313', 'ID_3157', \n",
    "                'ID_3172', 'ID_3178', 'ID_3219', 'ID_3231', 'ID_324', 'ID_3268', 'ID_3308', 'ID_333', 'ID_3334', \n",
    "                'ID_3375', 'ID_3389', 'ID_3405', 'ID_3418', 'ID_3472', 'ID_3487', 'ID_3526', 'ID_3535', 'ID_3567',\n",
    "                'ID_3605', 'ID_3614', 'ID_362', 'ID_3633', 'ID_3640', 'ID_3644', 'ID_365', 'ID_367', 'ID_3672', \n",
    "                'ID_3699', 'ID_3726', 'ID_3730', 'ID_3781', 'ID_3799', 'ID_3800', 'ID_3809', 'ID_3837', 'ID_3848', \n",
    "                'ID_3850', 'ID_389', 'ID_3917', 'ID_3920', 'ID_3939', 'ID_3982', 'ID_401', 'ID_4016', 'ID_4040',\n",
    "                'ID_4042', 'ID_4058', 'ID_4072', 'ID_4076', 'ID_4199', 'ID_4204', 'ID_4206', 'ID_4224', 'ID_4275',\n",
    "                'ID_429', 'ID_4347', 'ID_4378', 'ID_4507', 'ID_4567','ID_466', 'ID_494', 'ID_514', 'ID_539', \n",
    "                'ID_582', 'ID_62', 'ID_71', 'ID_727', 'ID_731', 'ID_737', 'ID_825', 'ID_861', 'ID_869', 'ID_876', \n",
    "                'ID_889', 'ID_90', 'ID_922', 'ID_949', 'ID_969', 'ID_979', 'ID_981', 'ID_993']\n",
    "\n",
    "cb_333346_new = ['ID_1071', 'ID_1149', 'ID_1246', 'ID_1300', 'ID_1358', 'ID_1614', 'ID_1894', 'ID_1999', \n",
    "                 'ID_2142', 'ID_2198', 'ID_2274', 'ID_2331', 'ID_2400', 'ID_2438', 'ID_2495', 'ID_2710', \n",
    "                 'ID_2808', 'ID_3197', 'ID_3335', 'ID_418', 'ID_657', 'ID_773', 'ID_906', 'ID_962']\n",
    "\n",
    "cb_333519_new = ['ID_10', 'ID_1077', 'ID_1178', 'ID_1203', 'ID_1246', 'ID_1262', 'ID_1671', 'ID_1691', \n",
    "                 'ID_1999', 'ID_2198', 'ID_2495', 'ID_2569', 'ID_2619', 'ID_3180', 'ID_3308', 'ID_394', \n",
    "                 'ID_678', 'ID_793']\n"
   ]
  },
  {
   "cell_type": "code",
   "execution_count": null,
   "id": "e4add15f",
   "metadata": {},
   "outputs": [],
   "source": [
    "cb = {333519: cb_333519+cb_333519_new, 333346: cb_333346+cb_333346_new}\n",
    "cb_6p = {333519: cb_333519_6p, 333346: cb_333346_6p}\n",
    "\n",
    "# cb = {333519: cb_333519, 333346: cb_333346}\n",
    "# cb_333346 = cb_333346+['ID_2274','ID_2198','ID_962', 'ID_657']"
   ]
  },
  {
   "cell_type": "markdown",
   "id": "fb22a548",
   "metadata": {},
   "source": [
    "# 2. Some Data wrangling"
   ]
  },
  {
   "cell_type": "code",
   "execution_count": null,
   "id": "c4c5e008",
   "metadata": {
    "scrolled": true
   },
   "outputs": [],
   "source": [
    "data_expanded = data_heatmap.loc[data_heatmap.index.repeat(data_heatmap['clicks'])].reset_index(drop=True)\n",
    "\n",
    "max_width = data_expanded['display_width'].max()\n",
    "max_height = data_expanded['display_height'].max()\n",
    "\n",
    "width_bins = np.linspace(1, max_width, 61)\n",
    "height_bins = np.linspace(1, max_height, 51)\n",
    "\n",
    "data_expanded['click_x_bin'] = pd.cut(data_expanded['click_x'], \n",
    "                                      bins = width_bins, \n",
    "                                      labels=False, \n",
    "                                      include_lowest=True)\n",
    "\n",
    "data_expanded['click_y_bin'] = pd.cut(data_expanded['click_y'], \n",
    "                                      bins=height_bins, \n",
    "                                      labels=False, \n",
    "                                      include_lowest=True)\n",
    "\n",
    "\n",
    "aggregated_clicks = data_expanded.groupby(['grid_id',\n",
    "                                           'domain', \n",
    "                                           'click_x_bin', \n",
    "                                           'click_y_bin']).size().reset_index(name='clicks_sum')\n",
    "\n",
    "# cl_stat = aggregated_clicks.groupby(['click_x_bin','click_y_bin']).count().reset_index()\n",
    "# cl_stat = cl_stat[['click_x_bin','click_y_bin','clicks_sum']]\n",
    "# cl_stat['bin_prob'] = cl_stat['clicks_sum']/cl_stat['clicks_sum'].sum()\n",
    "\n",
    "aggregated_clicks_by_grid = aggregated_clicks.groupby([\n",
    "                                'grid_id','click_x_bin','click_y_bin'\n",
    "                            ]).sum('clicks_sum').reset_index()"
   ]
  },
  {
   "cell_type": "code",
   "execution_count": null,
   "id": "adb4ccf1",
   "metadata": {},
   "outputs": [],
   "source": [
    "data_expanded_6p = data_heatmap_6p.loc[data_heatmap_6p.index.repeat(data_heatmap_6p['clicks'])].reset_index(drop=True)\n",
    "\n",
    "max_width = data_expanded_6p['display_width'].max()\n",
    "max_height = data_expanded_6p['display_height'].max()\n",
    "\n",
    "width_bins = np.linspace(1, max_width, 61)\n",
    "height_bins = np.linspace(1, max_height, 51)\n",
    "\n",
    "data_expanded_6p['click_x_bin'] = pd.cut(data_expanded_6p['click_x'], \n",
    "                                      bins = width_bins, \n",
    "                                      labels=False, \n",
    "                                      include_lowest=True)\n",
    "\n",
    "data_expanded_6p['click_y_bin'] = pd.cut(data_expanded_6p['click_y'], \n",
    "                                      bins=height_bins, \n",
    "                                      labels=False, \n",
    "                                      include_lowest=True)\n",
    "\n",
    "\n",
    "aggregated_clicks_6p = data_expanded_6p.groupby(['grid_id',\n",
    "                                           'domain', \n",
    "                                           'click_x_bin', \n",
    "                                           'click_y_bin']).size().reset_index(name='clicks_sum')\n",
    "\n",
    "\n",
    "aggregated_clicks_by_grid_6p = aggregated_clicks_6p.groupby([\n",
    "                                'grid_id','click_x_bin','click_y_bin'\n",
    "                            ]).sum('clicks_sum').reset_index()"
   ]
  },
  {
   "cell_type": "markdown",
   "id": "c3854901",
   "metadata": {},
   "source": [
    "# 3. Data enhancement and calculating average banner"
   ]
  },
  {
   "cell_type": "code",
   "execution_count": null,
   "id": "7c0de941",
   "metadata": {
    "scrolled": true
   },
   "outputs": [],
   "source": [
    "from itertools import product\n",
    "\n",
    "# Upsampling\n",
    "def enhance_data(data, prob, size, sdev):\n",
    "    indices = np.random.choice(data.index, \n",
    "                                   size, \n",
    "                                   replace=True, \n",
    "                                   p = data[prob])\n",
    "    \n",
    "    pert_x = np.random.normal(0, sdev, size).round().astype(int)\n",
    "    pert_y = np.random.normal(0, sdev, size).round().astype(int)\n",
    "\n",
    "    x = data.loc[indices][['click_x_bin', 'click_y_bin']] + np.array((pert_x, pert_y)).reshape(-1,2)\n",
    "    x_bin_max = data['click_x_bin'].max()\n",
    "    y_bin_max = data['click_y_bin'].max()\n",
    "    \n",
    "    x[x['click_x_bin'] < 0]['click_x_bin'] = 0\n",
    "    x[x['click_y_bin'] < 0]['click_y_bin'] = 0\n",
    "    x[x['click_x_bin'] > x_bin_max]['click_x_bin'] = x_bin_max\n",
    "    x[x['click_y_bin'] > y_bin_max]['click_y_bin'] = y_bin_max\n",
    "    \n",
    "    x = x.groupby(['click_x_bin','click_y_bin']).size().reset_index(name = 'clicks_sum')\n",
    "\n",
    "    tt = pd.DataFrame(list(product(range(0,x_bin_max+1), range(0,y_bin_max+1))), \n",
    "                      columns=['click_x_bin', 'click_y_bin'])\n",
    "\n",
    "    data_obs_merged = tt.merge(x, on = ['click_x_bin','click_y_bin'], how = 'left').fillna(0)\n",
    "#    data_obs_merged['boots_clicks'].sum()\n",
    "    return data_obs_merged\n",
    "\n",
    "# This was how the average banner was calculated in the old approach, to represent a working banner\n",
    "def weighted_bootstrap_resample(data, drawing_distro, emp_distro, size, n_bootstraps=1000):\n",
    "    tot_log_proba = 0\n",
    "    \n",
    "    # resample heatmap of size = size n_bootstrap times\n",
    "    for _ in range(n_bootstraps):\n",
    "        # draw samples from drawing_distro column:\n",
    "        indices = np.random.choice(data.index, \n",
    "                                   size=size, \n",
    "                                   replace=True, \n",
    "                                   p=data[drawing_distro])\n",
    "        \n",
    "        # compute log-probability for current sample based on emp_distro column:\n",
    "        log_proba = np.log(data.loc[indices][emp_distro]).sum()\n",
    "        \n",
    "        # cumulative log-probability\n",
    "        tot_log_proba += log_proba\n",
    "        \n",
    "    # compute and return average log-probability:\n",
    "    return tot_log_proba/n_bootstraps"
   ]
  },
  {
   "cell_type": "code",
   "execution_count": null,
   "id": "cd7df711",
   "metadata": {},
   "outputs": [],
   "source": [
    "# Domains for each grid_ID\n",
    "unique_gd_comb = data_heatmap.groupby(['grid_id','domain']).size().reset_index(name='Freq')[['grid_id','domain']]"
   ]
  },
  {
   "cell_type": "markdown",
   "id": "2337be02",
   "metadata": {},
   "source": [
    "# 4. LRT on old data "
   ]
  },
  {
   "cell_type": "markdown",
   "id": "3cb813cb",
   "metadata": {},
   "source": [
    "## 4a. Calculate the empirical distribution for the working banners (i.e. representative working banner)"
   ]
  },
  {
   "cell_type": "markdown",
   "id": "de7dc317",
   "metadata": {},
   "source": [
    "Calculate the empirical distribution for the working banners (i.e. $H_0$). To do this, we pick a representative banner from the same dataset. This is hence a one shot learning algorithm"
   ]
  },
  {
   "cell_type": "code",
   "execution_count": null,
   "id": "73ae583c",
   "metadata": {},
   "outputs": [],
   "source": [
    "# save domains by grid id:\n",
    "domains_by_grid_id = pd.DataFrame(aggregated_clicks.groupby('grid_id')['domain'].unique()).reset_index()\n",
    "domains_by_grid_id_6p = pd.DataFrame(aggregated_clicks_6p.groupby('grid_id')['domain'].unique()).reset_index()"
   ]
  },
  {
   "cell_type": "code",
   "execution_count": null,
   "id": "05603b94",
   "metadata": {},
   "outputs": [],
   "source": [
    "# selection of empirical distribution: pick most clicks and highest landing rate:\n",
    "\n",
    "representative_heatmap = {}\n",
    "\n",
    "for g_id in [333519, 333346]:\n",
    "    filtered_data = data_metrics[data_metrics.grid_id == g_id]\n",
    "\n",
    "    result = filtered_data[(filtered_data.landed_clicks / filtered_data.clicks) > 0.8]\n",
    "    dom = result.sort_values(by='clicks', ascending=False).iloc[0].domain\n",
    "    representative_heatmap[g_id] = dom\n",
    "    \n",
    "    data_obs = aggregated_clicks[(aggregated_clicks.grid_id == g_id) &\n",
    "                                 (aggregated_clicks.domain == dom)]\n",
    "    print(f'Total clicks for (grid_id, domain): (333519, {dom}): {data_obs.clicks_sum.sum()}')\n",
    "    data_obs['proba'] = data_obs['clicks_sum']/data_obs['clicks_sum'].sum()\n",
    "    data_obs_enh = enhance_data(data_obs, 'proba', 10000, 1.5)\n",
    "    click_matrix = data_obs_enh.pivot(\"click_y_bin\",\n",
    "                                      \"click_x_bin\",\n",
    "                                      \"clicks_sum\").fillna(0)\n",
    "    plt.figure(figsize=(8, 6))\n",
    "    sns.heatmap(click_matrix, \n",
    "                cmap = \"YlGnBu\", \n",
    "                annot = False, \n",
    "                cbar = True, \n",
    "                fmt = \"g\")\n",
    "    plt.title(f'Click Heatmap for id = {dom} and grid = {333519}')\n",
    "    plt.xlabel('click_x Bin')\n",
    "    plt.ylabel('click_y Bin')\n",
    "    plt.gca().invert_yaxis() \n",
    "    plt.show()"
   ]
  },
  {
   "cell_type": "markdown",
   "id": "4b565575",
   "metadata": {},
   "source": [
    "## 4b. Calculate the empirical distribution for the broken banners (i.e. represnetative broken banner)"
   ]
  },
  {
   "cell_type": "markdown",
   "id": "cfe7c837",
   "metadata": {},
   "source": [
    "Calculate the empirical distribution for the broken banners (i.e. $H_1$). To do this, we use the broken banners from the new dataset and sum all the distributions."
   ]
  },
  {
   "cell_type": "code",
   "execution_count": null,
   "id": "32ed88d4",
   "metadata": {},
   "outputs": [],
   "source": [
    "data_broken = {}\n",
    "data_broken_proba = {}"
   ]
  },
  {
   "cell_type": "code",
   "execution_count": null,
   "id": "bc8d2414",
   "metadata": {},
   "outputs": [],
   "source": [
    "for g_id in [333519, 333346]:\n",
    "    agg_broken = aggregated_clicks_6p[(aggregated_clicks_6p.grid_id == g_id) & \n",
    "                      (aggregated_clicks_6p.domain.isin(cb_6p[g_id]))]\n",
    "    \n",
    "    data_broken[g_id] = agg_broken.groupby([\n",
    "                                'grid_id','click_x_bin','click_y_bin'\n",
    "                            ]).sum('clicks_sum').reset_index()\n",
    "    \n",
    "    total_clicks = agg_broken.groupby(['grid_id', 'domain'])['clicks_sum'].transform('sum')\n",
    "    agg_broken['proba'] = agg_broken['clicks_sum'] / total_clicks\n",
    "    \n",
    "    data_broken_proba[g_id] = agg_broken.groupby(['click_x_bin','click_y_bin'\n",
    "                            ]).sum('proba').reset_index()\n",
    "    \n",
    "    data_broken_proba[g_id]['proba1'] = data_broken_proba[g_id]['proba']/data_broken_proba[g_id].proba.sum()\n"
   ]
  },
  {
   "cell_type": "code",
   "execution_count": null,
   "id": "7355e0df",
   "metadata": {
    "scrolled": false
   },
   "outputs": [],
   "source": [
    "combined_agg_broken = data_broken_proba[333346].drop(columns = ['grid_id']).merge(data_broken_proba[333346].drop(columns = ['grid_id']), on = ['click_x_bin','click_y_bin'], how='outer').fillna(0)\n",
    "combined_agg_broken['proba_comb'] = combined_agg_broken['proba_x']+combined_agg_broken['proba_y']\n",
    "combined_agg_broken['proba_comb'] = combined_agg_broken['proba_comb']/combined_agg_broken.proba_comb.sum()\n",
    "\n",
    "click_matrix = combined_agg_broken.pivot(\"click_y_bin\",\n",
    "                                  \"click_x_bin\",\n",
    "                                  \"proba_comb\").fillna(0)\n",
    "plt.figure(figsize=(8, 6))\n",
    "sns.heatmap(click_matrix, \n",
    "            cmap = \"YlGnBu\", \n",
    "            annot = False, \n",
    "            cbar = True, \n",
    "            fmt = \"g\")\n",
    "plt.title(f'Aggregated bad clicks for new data')\n",
    "plt.xlabel('click_x Bin')\n",
    "plt.ylabel('click_y Bin')\n",
    "plt.gca().invert_yaxis() \n",
    "plt.show()"
   ]
  },
  {
   "cell_type": "code",
   "execution_count": null,
   "id": "398bb89f",
   "metadata": {},
   "outputs": [],
   "source": [
    "# data_bad = pd.DataFrame(list(product(range(0,60),range(0,50))), \n",
    "#                                           columns=['click_x_bin', 'click_y_bin'])\n",
    "# data_bad['proba'] = 1/data_bad.shape[0]\n",
    "\n",
    "data_bad_6p = combined_agg_broken[['click_x_bin','click_y_bin','proba_comb']].copy()\n",
    "data_bad_6p = data_bad_6p.rename(columns = {'proba_comb':'proba'})"
   ]
  },
  {
   "cell_type": "markdown",
   "id": "f96b5430",
   "metadata": {},
   "source": [
    "## 4c. Run gridsearch for LRT on old data:"
   ]
  },
  {
   "cell_type": "markdown",
   "id": "cda3b7ec",
   "metadata": {},
   "source": [
    "### Defining functions"
   ]
  },
  {
   "cell_type": "code",
   "execution_count": null,
   "id": "a9fa639b",
   "metadata": {},
   "outputs": [],
   "source": [
    "representative_heatmap"
   ]
  },
  {
   "cell_type": "code",
   "execution_count": null,
   "id": "e30e7990",
   "metadata": {},
   "outputs": [],
   "source": [
    "data_bad_6p"
   ]
  },
  {
   "cell_type": "code",
   "execution_count": null,
   "id": "9f5d340d",
   "metadata": {},
   "outputs": [],
   "source": [
    "######################## CREATING FUNCTION ########################\n",
    "# representative_heatmap -> numerator\n",
    "# data_bad_6p -> denominator\n",
    "def LRT(aggregated_clicks, representative_heatmap, domains_by_grid_id, cb, data_bad_6p):\n",
    "    start_time = time.time()\n",
    "    # avoid dividing by 0:\n",
    "    eps = 1e-20\n",
    "\n",
    "    outputs = {333519: [], 333346: []}\n",
    "    labels = {333519: [], 333346: []}\n",
    "    domains = {333519: [], 333346: []}\n",
    "\n",
    "    for g_id in [333519, 333346]: \n",
    "        data = pd.DataFrame(list(product(range(0,60),range(0,50))), \n",
    "                                    columns=['click_x_bin', 'click_y_bin'])\n",
    "\n",
    "        # representative probabilities:\n",
    "        data_obs_rep = aggregated_clicks[(aggregated_clicks.grid_id == g_id) &\n",
    "                                            (aggregated_clicks.domain == representative_heatmap[g_id])]\n",
    "\n",
    "        # merge enhanced observed heatmap with empirical distribution\n",
    "        # in order to get empircal probabilities for bins:\n",
    "        data_obs_rep = data_obs_rep.merge(data, \n",
    "                                        on=['click_x_bin','click_y_bin'], \n",
    "                                        how='right').fillna(0)\n",
    "\n",
    "        data_obs_rep['proba'] = data_obs_rep.clicks_sum/data_obs_rep.clicks_sum.sum()\n",
    "\n",
    "        data = data.merge(data_obs_rep[['click_x_bin','click_y_bin','proba']], \n",
    "                            on = ['click_x_bin','click_y_bin'], \n",
    "                            how='left' )\n",
    "\n",
    "        data = data.fillna(0)\n",
    "\n",
    "\n",
    "        # run over domains, dom for given grid_id = g_id:\n",
    "        for dom in domains_by_grid_id[domains_by_grid_id.grid_id == g_id]['domain'].iloc[0]:\n",
    "\n",
    "            # data_obs = \"observed\" heatmap for current domain_id = dom\n",
    "            data_obs_1 = aggregated_clicks[(aggregated_clicks.grid_id == g_id) &\n",
    "                                            (aggregated_clicks.domain == dom)]\n",
    "            \n",
    "            data_obs_1['clicks_sum'] = 1000*data_obs_1['clicks_sum']/data_obs_1['clicks_sum'].sum()\n",
    "            data_obs = data_obs_1[['click_x_bin','click_y_bin','clicks_sum']].merge(data, \n",
    "                                            on=['click_x_bin','click_y_bin'], \n",
    "                                            how='right').fillna(0)\n",
    "            \n",
    "            from_obs = (np.log(data_obs['proba']+eps)*data_obs['clicks_sum']).sum()\n",
    "            \n",
    "            ####################\n",
    "            # \"lrt\" method:\n",
    "\n",
    "            data_obs_bad = data_obs_1[['click_x_bin','click_y_bin','clicks_sum']].merge(data_bad_6p, \n",
    "                                            on=['click_x_bin','click_y_bin'], \n",
    "                                            how='right').fillna(0)\n",
    "\n",
    "            from_obs_bad = (np.log(data_obs_bad['proba']+eps)*data_obs_bad['clicks_sum']).sum()\n",
    "\n",
    "            loglrt = from_obs - from_obs_bad\n",
    "\n",
    "            \n",
    "            outputs[g_id].append(loglrt)\n",
    "            domains[g_id].append(dom)\n",
    "            if dom in cb[g_id]: # broken\n",
    "                labels[g_id].append(1)\n",
    "            else: # working\n",
    "                labels[g_id].append(0)\n",
    "\n",
    "    end_time = time.time()\n",
    "    nb_banners = len(domains_by_grid_id.iloc[0]['domain']) + len(domains_by_grid_id.iloc[1]['domain'])\n",
    "\n",
    "    return (end_time - start_time) / nb_banners, outputs, labels, domains"
   ]
  },
  {
   "cell_type": "code",
   "execution_count": null,
   "id": "a90039e7",
   "metadata": {},
   "outputs": [],
   "source": [
    "def generate_preds(outputs, min, max):\n",
    "    all_outputs = np.array(outputs[333346] + outputs[333519])\n",
    "    preds = {}\n",
    "    for g_id in [333346, 333519]:\n",
    "        neg_outputs = np.negative(outputs[g_id])\n",
    "        preds_g_id = (neg_outputs - min)/(max - min)\n",
    "        preds_g_id = [1 if preds_g_id[i] > 1 else preds_g_id[i] for i in range(len(preds_g_id))]\n",
    "        preds_g_id = [0 if preds_g_id[i] < 0 else preds_g_id[i] for i in range(len(preds_g_id))]\n",
    "        preds[g_id] = preds_g_id\n",
    "    return preds"
   ]
  },
  {
   "cell_type": "code",
   "execution_count": null,
   "id": "bf65a957",
   "metadata": {},
   "outputs": [],
   "source": [
    "def combine_all_outputs(output_list):\n",
    "    return np.array(output_list[333346] + output_list[333519])"
   ]
  },
  {
   "cell_type": "code",
   "execution_count": null,
   "id": "9bd97545",
   "metadata": {},
   "outputs": [],
   "source": [
    "# def generate_all_preds(outputs, min, max):\n",
    "#     all_outputs = np.array(outputs[333346] + outputs[333519])\n",
    "#     neg_outputs = np.negative(all_outputs)\n",
    "#     all_preds = (neg_outputs - min)/(max - min)\n",
    "#     # all_preds = (neg_outputs - min(neg_outputs))/(max(neg_outputs) - min(neg_outputs))\n",
    "#     all_preds = [1 if all_preds[i] > 1 else all_preds[i] for i in range(len(all_preds))]\n",
    "#     all_preds = [0 if all_preds[i] < 0 else all_preds[i] for i in range(len(all_preds))]\n",
    "#     return all_preds"
   ]
  },
  {
   "cell_type": "code",
   "execution_count": null,
   "id": "e3fd0448",
   "metadata": {},
   "outputs": [],
   "source": [
    "def plot_heatmaps(heatmap_list):\n",
    "    for dom in heatmap_list:\n",
    "        for g_id in [333346]:\n",
    "            filtered_data = data_metrics[data_metrics.grid_id == g_id]\n",
    "\n",
    "            data_obs = aggregated_clicks[(aggregated_clicks.grid_id == g_id) &\n",
    "                                        (aggregated_clicks.domain == dom)]\n",
    "            print(f'Total clicks for (grid_id, domain): ({g_id}, {dom}): {data_obs.clicks_sum.sum()}')\n",
    "            # data_obs['proba'] = data_obs['clicks_sum']/data_obs['clicks_sum'].sum()\n",
    "            # data_obs_enh = enhance_data(data_obs, 'proba', 10000, 1.5)\n",
    "            click_matrix = data_obs.pivot(\"click_y_bin\",\n",
    "                                            \"click_x_bin\",\n",
    "                                            \"clicks_sum\").fillna(0)\n",
    "            plt.figure(figsize=(8, 6))\n",
    "            sns.heatmap(click_matrix, \n",
    "                        cmap = \"YlGnBu\", \n",
    "                        annot = False, \n",
    "                        cbar = True, \n",
    "                        fmt = \"g\")\n",
    "            plt.title(f'Click Heatmap for id = {dom} and grid = {333519}')\n",
    "            plt.xlabel('click_x Bin')\n",
    "            plt.ylabel('click_y Bin')\n",
    "            plt.gca().invert_yaxis() \n",
    "            plt.show()"
   ]
  },
  {
   "cell_type": "code",
   "execution_count": null,
   "id": "3d609775",
   "metadata": {},
   "outputs": [],
   "source": [
    "def plot_roc_curve(all_labels, all_preds):\n",
    "    # Calculate ROC curve\n",
    "    fpr, tpr, thresholds = roc_curve(all_labels, all_preds)\n",
    "\n",
    "    # Calculate AUC score\n",
    "    auc = roc_auc_score(all_labels, all_preds)\n",
    "\n",
    "    # Plot ROC curve\n",
    "    plt.plot(fpr, tpr, label=f'AUC = {auc:.2f}')\n",
    "    plt.plot([0, 1], [0, 1], 'k--') # Diagonal line\n",
    "    plt.xlim([0.0, 1.0])\n",
    "    plt.ylim([0.0, 1.05])\n",
    "    plt.xlabel('False Positive Rate')\n",
    "    plt.ylabel('True Positive Rate')\n",
    "    plt.title('Receiver Operating Characteristic')\n",
    "    plt.legend(loc=\"lower right\")\n",
    "    plt.show()"
   ]
  },
  {
   "cell_type": "code",
   "execution_count": null,
   "id": "05a082da",
   "metadata": {},
   "outputs": [],
   "source": [
    "def calculate_all_f1(all_labels, all_preds):\n",
    "    threshs = np.linspace(1,0.01,100)\n",
    "    best_f1 = 0\n",
    "    best_thresh = 0\n",
    "    all_f1 = []\n",
    "    for thresh in threshs:\n",
    "        all_preds_cut_off = [1 if all_preds[i] > thresh else 0 for i in range(len(all_preds))]\n",
    "        f1 = f1_score(all_labels, all_preds_cut_off, average='macro')\n",
    "        \n",
    "        if best_f1 < f1:\n",
    "            best_f1 = f1\n",
    "            best_thresh = thresh\n",
    "        all_f1.append(f1)\n",
    "        # print(f1)\n",
    "    return all_f1, best_f1, best_thresh"
   ]
  },
  {
   "cell_type": "code",
   "execution_count": null,
   "id": "82dcba88",
   "metadata": {},
   "outputs": [],
   "source": [
    "def identify_misclassified_banners(domains, preds, labels, thresh):\n",
    "    fn = {}\n",
    "    fp = {}\n",
    "    for g_id in [333346, 333519]:\n",
    "        fn_g_id = []\n",
    "        fp_g_id = []\n",
    "        domains_g_id = domains[g_id]\n",
    "        for ind in range(len(domains[g_id])):\n",
    "            preds_rounded = [0 if preds[g_id][i] < thresh else 1 for i in range(len(preds[g_id]))] \n",
    "            if preds_rounded[ind] == 0 and labels[g_id][ind] == 1: # False negative\n",
    "                fn_g_id.append(domains_g_id[ind])\n",
    "            elif preds_rounded[ind] == 1 and labels[g_id][ind] == 0: # False positive\n",
    "                fp_g_id.append(domains_g_id[ind])\n",
    "        fn[g_id] = fn_g_id\n",
    "        fp[g_id] = fp_g_id\n",
    "    return fn, fp"
   ]
  },
  {
   "cell_type": "markdown",
   "id": "1fca085f",
   "metadata": {},
   "source": [
    "### Code execution"
   ]
  },
  {
   "cell_type": "code",
   "execution_count": null,
   "id": "917b83bc",
   "metadata": {},
   "outputs": [],
   "source": [
    "time_per_banner_old, outputs_old, labels_old, domains_old = LRT(aggregated_clicks_6p, representative_heatmap_6p, domains_by_grid_id_6p, cb_6p, data_bad)"
   ]
  },
  {
   "cell_type": "code",
   "execution_count": null,
   "id": "016a6f63",
   "metadata": {},
   "outputs": [],
   "source": [
    "preds_old = generate_preds(outputs_old, -1000, 1000)\n",
    "all_labels_old = combine_all_outputs(labels_old)\n",
    "all_preds_old = combine_all_outputs(preds_old)\n",
    "all_outputs_old = combine_all_outputs(outputs_old)\n",
    "all_f1_old, best_f1_old, best_thresh_old = calculate_all_f1(all_labels_old, all_preds_old)\n",
    "all_preds_rounded_old = [1 if all_preds_old[i] > best_thresh_old else 0 for i in range(len(all_preds_old))]\n",
    "fn_old, fp_old = identify_misclassified_banners(domains_old, preds_old, labels_old, best_thresh_old)\n",
    "\n",
    "print(\"Time per banner: \", time_per_banner_old) # time per domain\n",
    "print(f\"Best f1 is {round(best_f1_old, 2)} at threshold {round(best_thresh_old, 2)}\")\n",
    "print(\"Confusion matrix at best threshold: \")\n",
    "print(confusion_matrix(all_labels_old, all_preds_rounded_old))"
   ]
  },
  {
   "cell_type": "code",
   "execution_count": null,
   "id": "da2ab00b",
   "metadata": {},
   "outputs": [],
   "source": [
    "old = {\"preds\": preds_old, \"outputs\": outputs_old, \"labels\": labels_old, \"domains\": domains_old, \"time_per_banner\": time_per_banner_old}"
   ]
  },
  {
   "cell_type": "code",
   "execution_count": null,
   "id": "8f8fe442",
   "metadata": {},
   "outputs": [],
   "source": [
    "plot_roc_curve(all_labels_old, all_preds_old)"
   ]
  },
  {
   "cell_type": "code",
   "execution_count": null,
   "id": "2eb64ac2",
   "metadata": {},
   "outputs": [],
   "source": [
    "plt.hist(all_preds_old, bins = 20)"
   ]
  },
  {
   "cell_type": "code",
   "execution_count": null,
   "id": "cea2af9b",
   "metadata": {},
   "outputs": [],
   "source": [
    "plt.hist(all_outputs_old, bins = 20)"
   ]
  },
  {
   "cell_type": "code",
   "execution_count": null,
   "id": "699a0e67",
   "metadata": {},
   "outputs": [],
   "source": [
    "plot_heatmaps(fp_old[333346])"
   ]
  },
  {
   "cell_type": "code",
   "execution_count": null,
   "id": "48b8a1a6",
   "metadata": {},
   "outputs": [],
   "source": [
    "time_per_banner, outputs, labels, domains = LRT(aggregated_clicks, representative_heatmap, domains_by_grid_id, cb, data_bad_6p)"
   ]
  },
  {
   "cell_type": "code",
   "execution_count": null,
   "id": "478e5433",
   "metadata": {},
   "outputs": [],
   "source": [
    "preds = generate_preds(outputs, -1000, 1000)\n",
    "all_labels = combine_all_outputs(labels)\n",
    "all_preds = combine_all_outputs(preds)\n",
    "all_outputs = combine_all_outputs(outputs)\n",
    "all_f1, best_f1, best_thresh = calculate_all_f1(all_labels, all_preds)\n",
    "all_preds_rounded = [1 if all_preds[i] > best_thresh else 0 for i in range(len(all_preds))]\n",
    "fn, fp = identify_misclassified_banners(domains, preds, labels, best_thresh)\n",
    "\n",
    "print(\"Time per banner: \", time_per_banner) # time per domain\n",
    "print(f\"Best f1 is {round(best_f1, 2)} at threshold {round(best_thresh, 2)}\")\n",
    "print(\"Confusion matrix at best threshold: \")\n",
    "print(confusion_matrix(all_labels, all_preds_rounded))"
   ]
  },
  {
   "cell_type": "code",
   "execution_count": null,
   "id": "af213b39",
   "metadata": {},
   "outputs": [],
   "source": [
    "plot_roc_curve(all_labels, all_preds)"
   ]
  },
  {
   "cell_type": "code",
   "execution_count": null,
   "id": "75c6624e",
   "metadata": {},
   "outputs": [],
   "source": [
    "plot_heatmaps(fp[333346])"
   ]
  },
  {
   "cell_type": "code",
   "execution_count": null,
   "id": "2c7707f0",
   "metadata": {},
   "outputs": [],
   "source": [
    "plt.hist(all_preds, bins = 20)\n"
   ]
  },
  {
   "cell_type": "code",
   "execution_count": null,
   "id": "def68395",
   "metadata": {},
   "outputs": [],
   "source": [
    "plt.hist(all_outputs, bins = 20)"
   ]
  },
  {
   "cell_type": "markdown",
   "id": "44247ca9",
   "metadata": {},
   "source": [
    "# 5. LRT - New data:"
   ]
  },
  {
   "cell_type": "markdown",
   "id": "c7b26e7a",
   "metadata": {},
   "source": [
    "## 5a. Representative working"
   ]
  },
  {
   "cell_type": "code",
   "execution_count": null,
   "id": "7ce7301d",
   "metadata": {
    "scrolled": false
   },
   "outputs": [],
   "source": [
    "representative_heatmap_6p = {}\n",
    "\n",
    "for g_id in [333519, 333346]:\n",
    "    filtered_data = data_metrics_6p[data_metrics_6p.grid_id == g_id]\n",
    "\n",
    "    result    = filtered_data[(filtered_data.landed_clicks / filtered_data.clicks) > 0.8]\n",
    "    uniq_doms = result.domain.unique()\n",
    "    f1 = data_heatmap_6p[(data_heatmap_6p.grid_id==g_id)]\n",
    "    dom_sorted = f1[f1.domain.isin(uniq_doms)].groupby(['domain']).sum('clicks').sort_values(by='clicks', \n",
    "                                                                                             ascending=False)\n",
    "    dom = dom_sorted.reset_index().iloc[0].domain\n",
    "    representative_heatmap_6p[g_id] = dom\n",
    "    \n",
    "    data_obs = aggregated_clicks_6p[(aggregated_clicks_6p.grid_id == g_id) &\n",
    "                                 (aggregated_clicks_6p.domain == dom)]\n",
    "    print(f'Total clicks for (grid_id, domain): ({g_id}, {dom}): {data_obs.clicks_sum.sum()}')\n",
    "    data_obs['proba'] = data_obs['clicks_sum']/data_obs['clicks_sum'].sum()\n",
    "    #data_obs_enh = enhance_data(data_obs, 'proba', 10000, 1.5)\n",
    "    click_matrix = data_obs.pivot(\"click_y_bin\",\n",
    "                                      \"click_x_bin\",\n",
    "                                      \"clicks_sum\").fillna(0)\n",
    "    plt.figure(figsize=(8, 6))\n",
    "    sns.heatmap(click_matrix, \n",
    "                cmap = \"YlGnBu\", \n",
    "                annot = False, \n",
    "                cbar = True, \n",
    "                fmt = \"g\")\n",
    "    plt.title(f'Click Heatmap for id = {dom} and grid = {g_id}')\n",
    "    plt.xlabel('click_x Bin')\n",
    "    plt.ylabel('click_y Bin')\n",
    "    plt.gca().invert_yaxis() \n",
    "    plt.show()"
   ]
  },
  {
   "cell_type": "code",
   "execution_count": null,
   "id": "200f4b6f",
   "metadata": {},
   "outputs": [],
   "source": [
    "data_heatmap_6p[(data_heatmap_6p.grid_id==333346)].groupby(['domain']).sum('clicks').sort_values(by='clicks', \n",
    "                                                                                             ascending=False).head(5)"
   ]
  },
  {
   "cell_type": "code",
   "execution_count": null,
   "id": "04c36316",
   "metadata": {
    "scrolled": true
   },
   "outputs": [],
   "source": [
    "dom = 'ID_3516'\n",
    "representative_heatmap_6p[333346] = dom\n",
    "    \n",
    "data_obs = aggregated_clicks_6p[(aggregated_clicks_6p.grid_id == g_id) &\n",
    "                             (aggregated_clicks_6p.domain == dom)]\n",
    "print(f'Total clicks for (grid_id, domain): (333519, {dom}): {data_obs.clicks_sum.sum()}')\n",
    "data_obs['proba'] = data_obs['clicks_sum']/data_obs['clicks_sum'].sum()\n",
    "# data_obs_enh = enhance_data(data_obs, 'proba', 200000, 0)\n",
    "click_matrix = data_obs.pivot(\"click_y_bin\",\n",
    "                                  \"click_x_bin\",\n",
    "                                  \"clicks_sum\").fillna(0)\n",
    "plt.figure(figsize=(8, 6))\n",
    "sns.heatmap(click_matrix, \n",
    "            cmap = \"YlGnBu\", \n",
    "            annot = False, \n",
    "            cbar = True, \n",
    "            fmt = \"g\")\n",
    "plt.title(f'Click Heatmap for id = {dom} and grid = {333346}')\n",
    "plt.xlabel('click_x Bin')\n",
    "plt.ylabel('click_y Bin')\n",
    "plt.gca().invert_yaxis() \n",
    "plt.show()"
   ]
  },
  {
   "cell_type": "markdown",
   "id": "a9686773",
   "metadata": {},
   "source": [
    "## 5b. Representative broken (using bad data from old data)"
   ]
  },
  {
   "cell_type": "code",
   "execution_count": null,
   "id": "d2fe8ca7",
   "metadata": {
    "scrolled": false
   },
   "outputs": [],
   "source": [
    "for g_id in [333519, 333346]:\n",
    "    agg_broken = aggregated_clicks[(aggregated_clicks.grid_id == g_id) & \n",
    "                      (aggregated_clicks.domain.isin(cb[g_id]))]\n",
    "    \n",
    "    data_broken[g_id] = agg_broken.groupby([\n",
    "                                'grid_id','click_x_bin','click_y_bin'\n",
    "                            ]).sum('clicks_sum').reset_index()\n",
    "    \n",
    "    total_clicks = agg_broken.groupby(['grid_id', 'domain'])['clicks_sum'].transform('sum')\n",
    "    agg_broken['proba'] = agg_broken['clicks_sum'] / total_clicks\n",
    "    \n",
    "    data_broken_proba[g_id] = agg_broken.groupby(['click_x_bin','click_y_bin'\n",
    "                            ]).sum('proba').reset_index()\n",
    "    \n",
    "    data_broken_proba[g_id]['proba1'] = data_broken_proba[g_id]['proba']/data_broken_proba[g_id].proba.sum()\n",
    "    "
   ]
  },
  {
   "cell_type": "code",
   "execution_count": null,
   "id": "442649df",
   "metadata": {},
   "outputs": [],
   "source": [
    "combined_agg_broken = data_broken_proba[333346].drop(columns = ['grid_id']).merge(data_broken_proba[333346].drop(columns = ['grid_id']), on = ['click_x_bin','click_y_bin'], how='outer').fillna(0)\n",
    "combined_agg_broken['proba_comb'] = combined_agg_broken['proba_x']+combined_agg_broken['proba_y']\n",
    "combined_agg_broken['proba_comb'] = combined_agg_broken['proba_comb']/combined_agg_broken.proba_comb.sum()\n",
    "\n",
    "click_matrix = combined_agg_broken.pivot(\"click_y_bin\",\n",
    "                                  \"click_x_bin\",\n",
    "                                  \"proba_comb\").fillna(0)\n",
    "plt.figure(figsize=(8, 6))\n",
    "sns.heatmap(click_matrix, \n",
    "            cmap = \"YlGnBu\", \n",
    "            annot = False, \n",
    "            cbar = True, \n",
    "            fmt = \"g\")\n",
    "plt.title(f'Aggregated bad clicks for new data')\n",
    "plt.xlabel('click_x Bin')\n",
    "plt.ylabel('click_y Bin')\n",
    "plt.gca().invert_yaxis() \n",
    "plt.show()"
   ]
  },
  {
   "cell_type": "code",
   "execution_count": null,
   "id": "61d9e7e6",
   "metadata": {},
   "outputs": [],
   "source": [
    "data_bad = combined_agg_broken[['click_x_bin','click_y_bin','proba_comb']].copy()\n",
    "data_bad = data_bad.rename(columns = {'proba_comb':'proba'})"
   ]
  },
  {
   "cell_type": "markdown",
   "id": "7eca58af",
   "metadata": {},
   "source": [
    "## 5c. Grid search for new data"
   ]
  },
  {
   "cell_type": "code",
   "execution_count": null,
   "id": "c4a2c71d",
   "metadata": {},
   "outputs": [],
   "source": [
    "domains_by_grid_id_6p"
   ]
  },
  {
   "cell_type": "code",
   "execution_count": null,
   "id": "361bd8cc",
   "metadata": {},
   "outputs": [],
   "source": [
    "time_per_banner_old, outputs_old, labels_old, domains_old = LRT(aggregated_clicks_6p, representative_heatmap_6p, domains_by_grid_id_6p, cb_6p, data_bad)"
   ]
  },
  {
   "cell_type": "code",
   "execution_count": null,
   "id": "c5cc1ea1",
   "metadata": {},
   "outputs": [],
   "source": [
    "preds_old = generate_preds(outputs, -1000, 1000)\n",
    "all_labels_old = combine_all_outputs(labels)\n",
    "all_preds_old = combine_all_outputs(preds)\n",
    "all_outputs_old = combine_all_outputs(outputs)\n",
    "all_f1_old, best_f1_old, best_thresh_old = calculate_all_f1(all_labels, all_preds)\n",
    "all_preds_rounded_old = [1 if all_preds[i] > best_thresh else 0 for i in range(len(all_preds))]\n",
    "fn_old, fp_old = identify_misclassified_banners(domains, preds, labels, best_thresh)\n",
    "\n",
    "print(\"Time per banner: \", time_per_banner) # time per domain\n",
    "print(f\"Best f1 is {round(best_f1, 2)} at threshold {round(best_thresh, 2)}\")\n",
    "print(\"Confusion matrix at best threshold: \")\n",
    "print(confusion_matrix(all_labels, all_preds_rounded))"
   ]
  },
  {
   "cell_type": "code",
   "execution_count": null,
   "id": "d09e2e6d",
   "metadata": {},
   "outputs": [],
   "source": [
    "old = {preds: preds_old, outputs: outputs_old, labels: labels_old, domains: domains_old, time_per_banner: time_per_banner_old}"
   ]
  },
  {
   "cell_type": "code",
   "execution_count": null,
   "id": "c4f50701",
   "metadata": {},
   "outputs": [],
   "source": [
    "plot_roc_curve(all_labels, all_preds)"
   ]
  },
  {
   "cell_type": "code",
   "execution_count": null,
   "id": "916e76ac",
   "metadata": {},
   "outputs": [],
   "source": [
    "plt.hist(all_preds, bins = 20)"
   ]
  },
  {
   "cell_type": "code",
   "execution_count": null,
   "id": "c7df18b7",
   "metadata": {},
   "outputs": [],
   "source": [
    "plt.hist(all_outputs, bins = 20)"
   ]
  },
  {
   "cell_type": "code",
   "execution_count": null,
   "id": "0328200c",
   "metadata": {},
   "outputs": [],
   "source": [
    "plot_heatmaps(fp_old[333346])"
   ]
  }
 ],
 "metadata": {
  "kernelspec": {
   "display_name": "Python 3 (ipykernel)",
   "language": "python",
   "name": "python3"
  },
  "language_info": {
   "codemirror_mode": {
    "name": "ipython",
    "version": 3
   },
   "file_extension": ".py",
   "mimetype": "text/x-python",
   "name": "python",
   "nbconvert_exporter": "python",
   "pygments_lexer": "ipython3",
   "version": "3.8.18"
  }
 },
 "nbformat": 4,
 "nbformat_minor": 5
}
