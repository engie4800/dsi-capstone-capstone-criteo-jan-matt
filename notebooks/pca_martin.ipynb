{
 "cells": [
  {
   "cell_type": "code",
   "execution_count": 2,
   "id": "4ba00945",
   "metadata": {},
   "outputs": [],
   "source": [
    "!python pca_pipeline.py"
   ]
  },
  {
   "cell_type": "code",
   "execution_count": 3,
   "id": "a6b1d08b",
   "metadata": {},
   "outputs": [],
   "source": [
    "import pandas as pd\n",
    "\n",
    "pca_df = pd.read_csv('temp/pca_df.csv')\n",
    "normalized_input = pd.read_csv('temp/normalized_input.csv')\n",
    "grid_id = \n",
    "# X_train = normalized_input.iloc[:,2:-1]\n",
    "# y_train = normalized_input.iloc[:,-1]"
   ]
  },
  {
   "cell_type": "code",
   "execution_count": 4,
   "id": "bb547364",
   "metadata": {},
   "outputs": [],
   "source": [
    "from itertools import product\n",
    "import pandas as pd\n",
    "import numpy as np\n",
    "import matplotlib.pyplot as plt\n",
    "import seaborn as sns\n",
    "from sklearn.cluster import KMeans\n",
    "from sklearn.decomposition import PCA\n",
    "import pickle as pk\n",
    "from sklearn.model_selection import train_test_split\n",
    "from sklearn.preprocessing import StandardScaler\n",
    "from sklearn.pipeline import Pipeline"
   ]
  },
  {
   "cell_type": "code",
   "execution_count": 5,
   "id": "42664907",
   "metadata": {},
   "outputs": [],
   "source": [
    "# PCA to n = 2\n",
    "\n",
    "features = normalized_input.columns[2:] #input.columns[1:]  # Exclude the first column, which is the index\n",
    "\n",
    "# Select the number of components (in this case, reduce to 2 dimensions)\n",
    "n_components = 2\n",
    "\n",
    "# Instantiate the PCA model\n",
    "# pca = PCA(n_components=n_components)\n",
    "\n",
    "pipeline = Pipeline([('scaling', StandardScaler()), ('pca', PCA(n_components=n_components))])\n",
    "\n",
    "# Fit and transform the data\n",
    "pca_result = pipeline.fit_transform(normalized_input[features])\n",
    "\n",
    "# Create a DataFrame with the PCA results\n",
    "pca_df = pd.DataFrame(data=pca_result, columns=[f'PC{i+1}' for i in range(n_components)])\n",
    "\n",
    "# Concatenate the first column (index) from pca_input to pca_df\n",
    "pca_df['domain'] = normalized_input['domain']"
   ]
  },
  {
   "cell_type": "code",
   "execution_count": null,
   "id": "8d73af19",
   "metadata": {},
   "outputs": [],
   "source": [
    "print(grid_id)"
   ]
  },
  {
   "cell_type": "code",
   "execution_count": null,
   "id": "de0c7384",
   "metadata": {},
   "outputs": [],
   "source": [
    "pca_df"
   ]
  },
  {
   "cell_type": "code",
   "execution_count": null,
   "id": "c21e1075",
   "metadata": {},
   "outputs": [],
   "source": [
    "pca_df['label'] = 0\n",
    "\n",
    "pca_df.loc[pca_df.domain.isin(cb),'label'] = 1\n",
    "pca_df['label'].sum()"
   ]
  },
  {
   "cell_type": "code",
   "execution_count": null,
   "id": "a55f2a96",
   "metadata": {},
   "outputs": [],
   "source": [
    "# Plotting pca_df with ground truth labels\n",
    "pca_df1 = pca_df\n",
    "plt.figure(figsize=(10, 6))\n",
    "plt.scatter(pca_df1['PC1'], pca_df1['PC2'], c=pca_df1['label'], cmap='viridis', alpha=0.75)\n",
    "plt.title(f'{grid_id}_PCA scatterplot all-all')\n",
    "plt.xlabel('Principal Component 1 (PC1)')\n",
    "plt.ylabel('Principal Component 2 (PC2)')\n",
    "plt.colorbar(label='Index')\n",
    "\n",
    "\n",
    "plt.savefig(f\"{SAVE_DIR}/{grid_id}_PCA-all-all.jpg\")"
   ]
  },
  {
   "cell_type": "code",
   "execution_count": null,
   "id": "03aa42bb",
   "metadata": {},
   "outputs": [],
   "source": []
  },
  {
   "cell_type": "code",
   "execution_count": null,
   "id": "5f388db2",
   "metadata": {},
   "outputs": [],
   "source": [
    "# Zoomed plot of pca_df with ground truth labels\n",
    "\n",
    "pca_df1 = pca_df[pca_df.PC1<20]\n",
    "plt.figure(figsize=(10, 6))\n",
    "plt.scatter(pca_df1['PC1'], pca_df1['PC2'], c=pca_df1['label'], cmap='viridis', alpha=0.75)\n",
    "plt.title(f'{grid_id}_PCA scatterplot all-all zoomed')\n",
    "plt.xlabel('Principal Component 1 (PC1)')\n",
    "plt.ylabel('Principal Component 2 (PC2)')\n",
    "plt.colorbar(label='Index')\n",
    "\n",
    "# plt.show()\n",
    "\n",
    "plt.savefig(f\"{SAVE_DIR}/{grid_id}_PCA-all-all-zoomed.jpg\")"
   ]
  },
  {
   "cell_type": "code",
   "execution_count": null,
   "id": "0959033f",
   "metadata": {},
   "outputs": [],
   "source": [
    "pca_df"
   ]
  },
  {
   "cell_type": "code",
   "execution_count": null,
   "id": "2e8440ed",
   "metadata": {},
   "outputs": [],
   "source": [
    "# kNN train-test split\n",
    "kmeans = KMeans(n_clusters=2, random_state=0)\n",
    "predicted_labels = kmeans.fit_predict(pca_df[['PC1', 'PC2']])\n",
    "pca_df['predicted'] = predicted_labels\n",
    "print(grid_id)\n"
   ]
  },
  {
   "cell_type": "code",
   "execution_count": null,
   "id": "2d06a2f5",
   "metadata": {},
   "outputs": [],
   "source": [
    "from sklearn.metrics import confusion_matrix\n",
    "confusion_matrix(pca_df['label'], pca_df['predicted'])"
   ]
  },
  {
   "cell_type": "code",
   "execution_count": null,
   "id": "b0a2fa7b",
   "metadata": {},
   "outputs": [],
   "source": [
    "from sklearn.metrics import recall_score, precision_score, accuracy_score\n",
    "recall = recall_score(pca_df['label'], pca_df['predicted'])\n",
    "acc = accuracy_score(pca_df['label'], pca_df['predicted'])\n",
    "precision = precision_score(pca_df['label'], pca_df['predicted'])\n",
    "print(acc)\n",
    "print(precision)\n",
    "print(recall)\n"
   ]
  },
  {
   "cell_type": "code",
   "execution_count": null,
   "id": "e24f657c",
   "metadata": {},
   "outputs": [],
   "source": [
    "# Plotting train_result_df with ground truth labels\n",
    "plt.figure(figsize=(10, 6))\n",
    "plt.scatter(pca_df['PC1'], pca_df['PC2'], c=pca_df['predicted'], cmap='viridis', alpha=0.75)\n",
    "plt.title(f'PCA Scatterplot train cross on {grid_id}train')\n",
    "plt.xlabel('Principal Component 1 (PC1)')\n",
    "plt.ylabel('Principal Component 2 (PC2)')\n",
    "plt.colorbar(label='Index')\n",
    "\n",
    "\n",
    "plt.savefig(f'pca-feb-20/KNN_cross_test_on_{grid_id}_all.jpg')"
   ]
  },
  {
   "cell_type": "markdown",
   "id": "cfcc4585",
   "metadata": {},
   "source": [
    "# 3. Building PCA with train-test split on 333519"
   ]
  },
  {
   "cell_type": "code",
   "execution_count": null,
   "id": "65789b99",
   "metadata": {},
   "outputs": [],
   "source": [
    "print(grid_id)"
   ]
  },
  {
   "cell_type": "code",
   "execution_count": null,
   "id": "ade78c6c",
   "metadata": {},
   "outputs": [],
   "source": [
    "n_components = 2\n",
    "pca_train = PCA(n_components=n_components)\n",
    "\n",
    "# Fit and transform the data\n",
    "train_result = scale.fit_transform(X_train)\n",
    "train_result = pca_train.fit_transform(train_result)\n",
    "\n",
    "# Create a DataFrame with the PCA results\n",
    "train_result_df = pd.DataFrame(data=train_result, columns=[f'PC{i+1}' for i in range(n_components)])\n",
    "\n",
    "train_result_df.set_index(X_train.index)\n",
    "\n",
    "# train_result_df['label'] = y_train\n",
    "train_result_df = train_result_df.assign(label=y_train.values)\n"
   ]
  },
  {
   "cell_type": "code",
   "execution_count": null,
   "id": "0583c171",
   "metadata": {},
   "outputs": [],
   "source": [
    "# Plotting train_result_df with ground truth labels\n",
    "plt.figure(figsize=(10, 6))\n",
    "plt.scatter(train_result_df['PC1'], train_result_df['PC2'], c=train_result_df['label'], cmap='viridis', alpha=0.75)\n",
    "plt.title(f'{grid_id}_PCA scatterplot train-train')\n",
    "plt.xlabel('Principal Component 1 (PC1)')\n",
    "plt.ylabel('Principal Component 2 (PC2)')\n",
    "plt.colorbar(label='Index')\n",
    "\n",
    "\n",
    "plt.savefig(f\"{SAVE_DIR}/{grid_id}_PCA-train-train.jpg\")"
   ]
  },
  {
   "cell_type": "code",
   "execution_count": null,
   "id": "e434f2c8",
   "metadata": {},
   "outputs": [],
   "source": [
    "# Zoomed plot of pca_df with ground truth labels\n",
    "\n",
    "train_result_df1 = train_result_df[train_result_df.PC1<20]\n",
    "train_result_df1 = train_result_df1[train_result_df1.PC2<20]\n",
    "# Plotting train_result_df with ground truth labels\n",
    "plt.figure(figsize=(10, 6))\n",
    "plt.scatter(train_result_df1['PC1'], train_result_df1['PC2'], c=train_result_df1['label'], cmap='viridis', alpha=0.75)\n",
    "plt.title(f'{grid_id}_PCA scatterplot train-train zoomed')\n",
    "plt.xlabel('Principal Component 1 (PC1)')\n",
    "plt.ylabel('Principal Component 2 (PC2)')\n",
    "plt.colorbar(label='Index')\n",
    "\n",
    "\n",
    "plt.savefig(f\"{SAVE_DIR}/{grid_id}_PCA-train-train zoomed.jpg\")"
   ]
  },
  {
   "cell_type": "code",
   "execution_count": null,
   "id": "3d4b389a",
   "metadata": {},
   "outputs": [],
   "source": [
    "test_result = scale.fit_transform(X_test)\n",
    "\n",
    "test_result = pca_train.transform(test_result)\n",
    "\n",
    "test_result_df = pd.DataFrame(data=test_result, columns=[f'PC{i+1}' for i in range(n_components)])\n",
    "\n",
    "test_result_df.set_index(X_test.index)\n",
    "\n",
    "# train_result_df['label'] = y_train\n",
    "test_result_df = test_result_df.assign(label=y_test.values)\n"
   ]
  },
  {
   "cell_type": "code",
   "execution_count": null,
   "id": "447c881d",
   "metadata": {},
   "outputs": [],
   "source": [
    "# Plotting train_result_df with ground truth labels\n",
    "plt.figure(figsize=(10, 6))\n",
    "plt.scatter(test_result_df['PC1'], test_result_df['PC2'], c=test_result_df['label'], cmap='viridis', alpha=0.75)\n",
    "plt.title(f'{grid_id}_PCA scatterplot train-test')\n",
    "plt.xlabel('Principal Component 1 (PC1)')\n",
    "plt.ylabel('Principal Component 2 (PC2)')\n",
    "plt.colorbar(label='Index')\n",
    "\n",
    "plt.savefig(f\"{SAVE_DIR}/{grid_id}_PCA-train-test zoomed.jpg\")"
   ]
  },
  {
   "cell_type": "markdown",
   "id": "8e774bcb",
   "metadata": {},
   "source": [
    "# 3b. Saving the trained PCA model"
   ]
  },
  {
   "cell_type": "code",
   "execution_count": null,
   "id": "69d5b2af",
   "metadata": {},
   "outputs": [],
   "source": [
    "pk.dump(pca_train, open(f\"pca_{grid_id}.pkl\",\"wb\"))"
   ]
  },
  {
   "cell_type": "code",
   "execution_count": null,
   "id": "6646aa1d",
   "metadata": {},
   "outputs": [],
   "source": [
    "# pca_reloaded = pk.load(open(\"pca_333519.pkl\",'rb')) \n",
    "# result_new = pca_reloaded.transform(X_test) # X_new is a new data sample"
   ]
  },
  {
   "cell_type": "code",
   "execution_count": null,
   "id": "2e2fa234",
   "metadata": {},
   "outputs": [],
   "source": [
    "test_result = pca_train.transform(X_test)\n",
    "\n",
    "test_result_df = pd.DataFrame(data=test_result, columns=[f'PC{i+1}' for i in range(n_components)])\n",
    "\n",
    "test_result_df.set_index(X_test.index)\n",
    "\n",
    "# train_result_df['label'] = y_train\n",
    "test_result_df = test_result_df.assign(label=y_test.values)"
   ]
  },
  {
   "cell_type": "code",
   "execution_count": null,
   "id": "11251386",
   "metadata": {},
   "outputs": [],
   "source": [
    "# # Plotting train_result_df with ground truth labels\n",
    "# plt.figure(figsize=(10, 6))\n",
    "# plt.scatter(test_result_df['PC1'], test_result_df['PC2'], c=test_result_df['label'], cmap='viridis', alpha=0.75)\n",
    "# plt.title(f'{grid_id}_PCA scatterplot train-test')\n",
    "# plt.xlabel('Principal Component 1 (PC1)')\n",
    "# plt.ylabel('Principal Component 2 (PC2)')\n",
    "# plt.colorbar(label='Index')\n",
    "\n",
    "\n",
    "# plt.savefig(f\"{SAVE_DIR}/{grid_id}_PCA-train-test.jpg\")"
   ]
  },
  {
   "cell_type": "code",
   "execution_count": null,
   "id": "0da63c29",
   "metadata": {},
   "outputs": [],
   "source": [
    "# kNN train-test split\n",
    "kmeans = KMeans(n_clusters=2, random_state=0)\n",
    "kmeans.fit_predict(train_result_df[['PC1', 'PC2']])\n",
    "predicted_labels = kmeans.predict(test_result_df[['PC1', 'PC2']])\n",
    "test_result_df['predicted'] = predicted_labels\n",
    "print(grid_id)\n"
   ]
  },
  {
   "cell_type": "code",
   "execution_count": null,
   "id": "a0eb4fca",
   "metadata": {},
   "outputs": [],
   "source": [
    "test_result_df"
   ]
  },
  {
   "cell_type": "code",
   "execution_count": null,
   "id": "5bf2fcdf",
   "metadata": {},
   "outputs": [],
   "source": [
    "grid_id"
   ]
  },
  {
   "cell_type": "code",
   "execution_count": null,
   "id": "a5e696bc",
   "metadata": {},
   "outputs": [],
   "source": [
    "from sklearn.metrics import confusion_matrix\n",
    "\n",
    "confusion_matrix(test_result_df['label'], test_result_df['predicted'])"
   ]
  },
  {
   "cell_type": "code",
   "execution_count": null,
   "id": "c079e951",
   "metadata": {},
   "outputs": [],
   "source": [
    "from sklearn.metrics import recall_score, precision_score, accuracy_score\n",
    "recall = recall_score(test_result_df['label'], test_result_df['predicted'])\n",
    "acc = accuracy_score(test_result_df['label'], test_result_df['predicted'])\n",
    "precision = precision_score(test_result_df['label'], test_result_df['predicted'])\n",
    "print(acc)\n",
    "print(precision)\n",
    "print(recall)\n"
   ]
  },
  {
   "cell_type": "markdown",
   "id": "4276d6c5",
   "metadata": {},
   "source": [
    "# 4. Testing 333519's model on 333346"
   ]
  },
  {
   "cell_type": "code",
   "execution_count": null,
   "id": "196749b6",
   "metadata": {},
   "outputs": [],
   "source": [
    "grid_id"
   ]
  },
  {
   "cell_type": "code",
   "execution_count": null,
   "id": "2aa5e85e",
   "metadata": {},
   "outputs": [],
   "source": [
    "pca_reloaded = pk.load(open(\"pca_333519.pkl\",'rb')) \n",
    "result_new = pca_reloaded.transform(X_test) # X_new is a new data sample"
   ]
  },
  {
   "cell_type": "code",
   "execution_count": null,
   "id": "9dc041ce",
   "metadata": {},
   "outputs": [],
   "source": [
    "\n",
    "# Fit and transform the data\n",
    "train_result = scale.fit_transform(X_train)\n",
    "train_result = pca_reloaded.fit_transform(train_result)\n",
    "\n",
    "# Create a DataFrame with the PCA results\n",
    "train_result_df = pd.DataFrame(data=train_result, columns=[f'PC{i+1}' for i in range(2)])\n",
    "\n",
    "train_result_df.set_index(X_train.index)\n",
    "\n",
    "# train_result_df['label'] = y_train\n",
    "train_result_df = train_result_df.assign(label=y_train.values)\n"
   ]
  },
  {
   "cell_type": "code",
   "execution_count": null,
   "id": "35dd7842",
   "metadata": {},
   "outputs": [],
   "source": [
    "# Plotting train_result_df with ground truth labels\n",
    "plt.figure(figsize=(10, 6))\n",
    "plt.scatter(train_result_df['PC1'], train_result_df['PC2'], c=train_result_df['label'], cmap='viridis', alpha=0.75)\n",
    "plt.title(f'PCA Scatterplot train cross on {grid_id}train')\n",
    "plt.xlabel('Principal Component 1 (PC1)')\n",
    "plt.ylabel('Principal Component 2 (PC2)')\n",
    "plt.colorbar(label='Index')\n",
    "\n",
    "\n",
    "plt.savefig(f'pca-feb-20/PCA_cross_test_on_{grid_id}_all.jpg')"
   ]
  },
  {
   "cell_type": "code",
   "execution_count": null,
   "id": "02953a0b",
   "metadata": {},
   "outputs": [],
   "source": [
    "grid_id"
   ]
  },
  {
   "cell_type": "code",
   "execution_count": null,
   "id": "a200d266",
   "metadata": {},
   "outputs": [],
   "source": [
    "# Zoomed plot of pca_df with ground truth labels\n",
    "\n",
    "train_result_df1 = train_result_df[train_result_df.PC1<20]\n",
    "train_result_df1 = train_result_df1[train_result_df1.PC2<20]\n",
    "# Plotting train_result_df with ground truth labels\n",
    "plt.figure(figsize=(10, 6))\n",
    "plt.scatter(train_result_df1['PC1'], train_result_df1['PC2'], c=train_result_df1['label'], cmap='viridis', alpha=0.75)\n",
    "plt.title('PCA Scatterplot train')\n",
    "plt.xlabel('Principal Component 1 (PC1)')\n",
    "plt.ylabel('Principal Component 2 (PC2)')\n",
    "plt.colorbar(label='Index')\n",
    "\n",
    "\n",
    "plt.savefig(f'pca-feb-20/PCA_cross_test_on_{grid_id}.jpg')"
   ]
  },
  {
   "cell_type": "code",
   "execution_count": null,
   "id": "9bb8fe34",
   "metadata": {},
   "outputs": [],
   "source": [
    "# kNN train-test split\n",
    "kmeans = KMeans(n_clusters=2, random_state=0)\n",
    "predicted_labels = kmeans.fit_predict(train_result_df[['PC1', 'PC2']])\n",
    "train_result_df['predicted'] = predicted_labels\n",
    "print(grid_id)\n"
   ]
  },
  {
   "cell_type": "code",
   "execution_count": null,
   "id": "a4e2250a",
   "metadata": {},
   "outputs": [],
   "source": [
    "from sklearn.metrics import confusion_matrix\n",
    "\n",
    "confusion_matrix(train_result_df['label'], train_result_df['predicted'])"
   ]
  },
  {
   "cell_type": "code",
   "execution_count": null,
   "id": "1437d714",
   "metadata": {},
   "outputs": [],
   "source": [
    "from sklearn.metrics import recall_score, precision_score, accuracy_score\n",
    "recall = recall_score(train_result_df['label'], train_result_df['predicted'])\n",
    "acc = accuracy_score(train_result_df['label'], train_result_df['predicted'])\n",
    "precision = precision_score(train_result_df['label'], train_result_df['predicted'])\n",
    "print(acc)\n",
    "print(precision)\n",
    "print(recall)\n"
   ]
  },
  {
   "cell_type": "code",
   "execution_count": null,
   "id": "ea9b93ba",
   "metadata": {},
   "outputs": [],
   "source": [
    "# Plotting train_result_df with ground truth labels\n",
    "plt.figure(figsize=(10, 6))\n",
    "plt.scatter(train_result_df['PC1'], train_result_df['PC2'], c=train_result_df['predicted'], cmap='viridis', alpha=0.75)\n",
    "plt.title(f'PCA Scatterplot train cross on {grid_id}train')\n",
    "plt.xlabel('Principal Component 1 (PC1)')\n",
    "plt.ylabel('Principal Component 2 (PC2)')\n",
    "plt.colorbar(label='Index')\n",
    "\n",
    "\n",
    "plt.savefig(f'pca-feb-20/KNN_cross_test_on_{grid_id}_all.jpg')"
   ]
  },
  {
   "cell_type": "code",
   "execution_count": null,
   "id": "9d5de9dd",
   "metadata": {},
   "outputs": [],
   "source": [
    "# Zoomed plot of pca_df with ground truth labels\n",
    "\n",
    "train_result_df1 = train_result_df[train_result_df.PC1<20]\n",
    "train_result_df1 = train_result_df1[train_result_df1.PC2<20]\n",
    "# Plotting train_result_df with ground truth labels\n",
    "plt.figure(figsize=(10, 6))\n",
    "plt.scatter(train_result_df1['PC1'], train_result_df1['PC2'], c=train_result_df1['predicted'], cmap='viridis', alpha=0.75)\n",
    "plt.title('PCA Scatterplot train')\n",
    "plt.xlabel('Principal Component 1 (PC1)')\n",
    "plt.ylabel('Principal Component 2 (PC2)')\n",
    "plt.colorbar(label='Index')\n",
    "\n",
    "\n",
    "plt.savefig(f'pca-feb-20/KNN_cross_test_on_{grid_id}.jpg')"
   ]
  },
  {
   "cell_type": "markdown",
   "id": "fffbdd3e",
   "metadata": {},
   "source": [
    "# 5. Testing PCA"
   ]
  },
  {
   "cell_type": "markdown",
   "id": "8cb8e849",
   "metadata": {},
   "source": []
  }
 ],
 "metadata": {
  "kernelspec": {
   "display_name": "Python 3 (ipykernel)",
   "language": "python",
   "name": "python3"
  },
  "language_info": {
   "codemirror_mode": {
    "name": "ipython",
    "version": 3
   },
   "file_extension": ".py",
   "mimetype": "text/x-python",
   "name": "python",
   "nbconvert_exporter": "python",
   "pygments_lexer": "ipython3",
   "version": "3.8.18"
  }
 },
 "nbformat": 4,
 "nbformat_minor": 5
}
