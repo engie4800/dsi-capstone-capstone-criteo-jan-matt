{
 "cells": [
  {
   "cell_type": "markdown",
   "id": "22e098d9",
   "metadata": {},
   "source": [
    "TODO:\n",
    "- [x] threshold of [-1000,1000]  to make normalizing robust - and test on new data\n",
    "- [ ] visualize FN and FP and attach number of clicks for these misclassifications\n",
    "- [x] Compare with uniform distribution (because UD can better detect certain FN, like the plot with clicks all on one pixel) \n",
    "- [ ] maybe combine both with a certain weight to get a new representative bad heatmap\n",
    "- [ ] bad data (H_0 banner is bad) vs uniform distribution (H_1 data is non-bad)\n",
    "\n",
    "\n",
    "final output\n",
    "- [ ] visualize FN and FP and attach number of clicks for these misclassifications"
   ]
  },
  {
   "cell_type": "markdown",
   "id": "97d50dc8",
   "metadata": {},
   "source": [
    "Functions: \n",
    "```{python}\n",
    "all_preds = generate_all_preds(outputs, min, max)\n",
    "plot_heatmaps(heatmap_list)\n",
    "plot_roc_curve(all_labels, all_preds)\n",
    "all_f1, best_f1, best_thresh = calculate_all_f1(all_labels, all_preds)\n",
    "all_outputs = combine_all_outputs(output_list)\n",
    "fn, fp = identify_misclassified_banners(domains, preds, labels, thresh)\n",
    "```"
   ]
  },
  {
   "cell_type": "markdown",
   "id": "7eca7bdb",
   "metadata": {},
   "source": [
    "# 1. Import data"
   ]
  },
  {
   "cell_type": "code",
   "execution_count": 1,
   "id": "6c158a0c",
   "metadata": {},
   "outputs": [],
   "source": [
    "import pandas as pd\n",
    "import numpy as np\n",
    "import matplotlib.pyplot as plt\n",
    "import seaborn as sns\n",
    "import warnings\n",
    "import time\n",
    "import matplotlib.pyplot as plt\n",
    "from sklearn.metrics import confusion_matrix\n",
    "from sklearn.metrics import roc_curve, roc_auc_score\n",
    "from sklearn.metrics import f1_score\n",
    "warnings.filterwarnings('ignore')"
   ]
  },
  {
   "cell_type": "code",
   "execution_count": 2,
   "id": "9801dd71",
   "metadata": {
    "scrolled": false
   },
   "outputs": [],
   "source": [
    "data_heatmap = pd.read_csv('../datasets/A_data_heatmap_300x250_3p.csv')\n",
    "data_metrics = pd.read_csv('../datasets/A_data_domain_perf_metrics_300x250_3p.csv')\n",
    "data_heatmap_new1 = pd.read_csv('../datasets/A_data_heatmap_300x250_6p_h2m.csv')\n",
    "data_heatmap_new2 = pd.read_csv('../datasets/A_data_heatmap_300x250_6p_t2m.csv')"
   ]
  },
  {
   "cell_type": "code",
   "execution_count": 3,
   "id": "323fd561",
   "metadata": {},
   "outputs": [],
   "source": [
    "data_metrics_6p = pd.read_csv('../datasets/A_data_domain_perf_metrics_300x250_6p.csv')"
   ]
  },
  {
   "cell_type": "code",
   "execution_count": 4,
   "id": "b92aee75",
   "metadata": {},
   "outputs": [],
   "source": [
    "data_heatmap_6p = pd.concat([data_heatmap_new1,data_heatmap_new2],axis=0).drop(columns=['click_x_rel','click_y_rel'])"
   ]
  },
  {
   "cell_type": "code",
   "execution_count": 5,
   "id": "445b35fa",
   "metadata": {},
   "outputs": [],
   "source": [
    "# importing broken banners\n",
    "cb_333519 = ['ID_1184', 'ID_1281', 'ID_1305', 'ID_1353', 'ID_1448', 'ID_1522',\n",
    "       'ID_1544', 'ID_162', 'ID_1682', 'ID_1690', 'ID_1824', 'ID_1888',\n",
    "       'ID_1929', 'ID_2076', 'ID_2097', 'ID_2226', 'ID_2249', 'ID_2268',\n",
    "       'ID_2331', 'ID_2339', 'ID_2386', 'ID_2396', 'ID_2438', 'ID_258',\n",
    "       'ID_2609', 'ID_2680', 'ID_2863', 'ID_2883', 'ID_2908', 'ID_3061',\n",
    "       'ID_3243', 'ID_3250', 'ID_3314', 'ID_3382', 'ID_3397', 'ID_3402',\n",
    "       'ID_3420', 'ID_3459', 'ID_3470', 'ID_3540', 'ID_398', 'ID_409',\n",
    "       'ID_484', 'ID_489', 'ID_526', 'ID_549', 'ID_580', 'ID_665',\n",
    "       'ID_810', 'ID_84', 'ID_857', 'ID_86', 'ID_905', 'ID_927', 'ID_934',\n",
    "       'ID_962', 'ID_986']\n",
    "\n",
    "cb_333346 = ['ID_1247', 'ID_162', 'ID_2534', 'ID_2742', 'ID_526', 'ID_2201',\n",
    "       'ID_1165', 'ID_743', 'ID_199', 'ID_2145', 'ID_2569', 'ID_643',\n",
    "       'ID_1305', 'ID_3180', 'ID_3158', 'ID_136', 'ID_293', 'ID_1753',\n",
    "       'ID_1849', 'ID_2226', 'ID_1462', 'ID_626', 'ID_2863', 'ID_3243',\n",
    "       'ID_3250', 'ID_1708', 'ID_1238', 'ID_580', 'ID_84', 'ID_2568',\n",
    "       'ID_2340', 'ID_1803', 'ID_3470', 'ID_139', 'ID_2619', 'ID_2908',\n",
    "       'ID_1281', 'ID_3308', 'ID_2883', 'ID_1320', 'ID_1333', 'ID_1062',\n",
    "       'ID_149', 'ID_260', 'ID_599', 'ID_1513', 'ID_3402', 'ID_1888',\n",
    "       'ID_2972', 'ID_398', 'ID_2339', 'ID_1030', 'ID_3382', 'ID_2076',\n",
    "       'ID_1646', 'ID_1077', 'ID_10', 'ID_1153', 'ID_1533', 'ID_2609',\n",
    "       'ID_1214', 'ID_810', 'ID_2097', 'ID_2386', 'ID_1585', 'ID_549',\n",
    "       'ID_3420', 'ID_3397', 'ID_2006', 'ID_561', 'ID_1542', 'ID_1570',\n",
    "       'ID_1819', 'ID_1413', 'ID_1240', 'ID_793', 'ID_831', 'ID_3188',\n",
    "       'ID_1437', 'ID_556', 'ID_1134', 'ID_314', 'ID_2836', 'ID_1483',\n",
    "       'ID_2676', 'ID_665', 'ID_15', 'ID_2755', 'ID_2194', 'ID_1682',\n",
    "       'ID_2775', 'ID_1923', 'ID_1846', 'ID_1262', 'ID_3314', 'ID_1448',\n",
    "       'ID_1770', 'ID_2626', 'ID_3296', 'ID_489', 'ID_1963', 'ID_1268',\n",
    "       'ID_1568', 'ID_1094', 'ID_2267', 'ID_409', 'ID_1650', 'ID_1522',\n",
    "       'ID_927', 'ID_2302', 'ID_1929', 'ID_1435', 'ID_1353']\n",
    "\n",
    "cb_333346_6p = ['ID_106', 'ID_1108', 'ID_1111', 'ID_1150', 'ID_1217', 'ID_136', \n",
    "             'ID_1542', 'ID_1589', 'ID_1602', 'ID_185', 'ID_1908', 'ID_1915', \n",
    "             'ID_1916', 'ID_1971',  'ID_2015', 'ID_2063', 'ID_2133', 'ID_2143', \n",
    "             'ID_2336', 'ID_2337', 'ID_2368', 'ID_243', 'ID_245', 'ID_2553', \n",
    "             'ID_2564', 'ID_2635', 'ID_2636', 'ID_267', 'ID_2693', 'ID_27', \n",
    "             'ID_2737', 'ID_2750', 'ID_2762', 'ID_2867', 'ID_2924', 'ID_2933', \n",
    "             'ID_2977', 'ID_3172', 'ID_3219', 'ID_324', 'ID_3268', 'ID_333', \n",
    "             'ID_3334', 'ID_3487', 'ID_3526', 'ID_3535', 'ID_3567', 'ID_3605', \n",
    "             'ID_362', 'ID_3633', 'ID_3640', 'ID_365', 'ID_367', 'ID_3672', \n",
    "             'ID_3699', 'ID_3730', 'ID_3809', 'ID_3837', 'ID_3848', 'ID_3920', \n",
    "             'ID_3939', 'ID_3982', 'ID_401', 'ID_4042', 'ID_4058', 'ID_4072', \n",
    "             'ID_4076', 'ID_4199', 'ID_4206', 'ID_4224', 'ID_4378', 'ID_4507', \n",
    "             'ID_466', 'ID_494', 'ID_539', 'ID_62', 'ID_727', 'ID_737', \n",
    "             'ID_861', 'ID_876', 'ID_889', 'ID_90', 'ID_922', 'ID_949', \n",
    "             'ID_981', 'ID_993']\n",
    "\n",
    "cb_333519_6p = ['ID_1081', 'ID_1150', 'ID_1464', 'ID_1518', 'ID_1622', 'ID_1623', \n",
    "                'ID_1624', 'ID_1631', 'ID_1678', 'ID_1623', 'ID_1731', 'ID_1752', \n",
    "                'ID_1764', 'ID_1795', 'ID_1915', 'ID_1916', 'ID_1971', 'ID_198', \n",
    "                'ID_2018', 'ID_204', 'ID_2044', 'ID_2104', 'ID_2108', 'ID_2109', \n",
    "                'ID_2146', 'ID_2251', 'ID_2330', 'ID_2336', 'ID_2381', 'ID_2383', \n",
    "                'ID_2400', 'ID_2616', 'ID_2636', 'ID_2749', 'ID_2766', 'ID_2779', \n",
    "                'ID_2809', 'ID_284', 'ID_2875', 'ID_2881', 'ID_30', 'ID_3021', \n",
    "                'ID_3049', 'ID_3098', 'ID_3178', 'ID_3183', 'ID_3219', 'ID_3232', \n",
    "                'ID_3561', 'ID_3644', 'ID_365', 'ID_3850', 'ID_389', 'ID_4025', \n",
    "                'ID_4036', 'ID_4050', 'ID_4058', 'ID_4075', 'ID_4113', 'ID_4122', \n",
    "                'ID_4255', 'ID_4257', 'ID_4275', 'ID_4347', 'ID_44', 'ID_4506', \n",
    "                'ID_4567', 'ID_618', 'ID_727', 'ID_737', 'ID_922', 'ID_950', \n",
    "                'ID_960', 'ID_969']\n",
    "\n",
    "cb_333346_6p = ['ID_106', 'ID_1003', 'ID_1081', 'ID_1108', 'ID_1111', 'ID_1150', 'ID_1217', 'ID_1303', 'ID_1347', \n",
    "                'ID_136', 'ID_1464', 'ID_1542', 'ID_1579', 'ID_1589', 'ID_1602', 'ID_1624','ID_1640', 'ID_1731',\n",
    "                'ID_185', 'ID_1902', 'ID_1908', 'ID_1915', 'ID_1916', 'ID_1917','ID_1971', 'ID_1974', 'ID_2015', \n",
    "                'ID_2063', 'ID_2077', 'ID_2099', 'ID_2104', 'ID_2108', 'ID_2133', 'ID_2143', 'ID_2214', 'ID_2242',\n",
    "                'ID_2279', 'ID_2336', 'ID_2337', 'ID_2368', 'ID_2400', 'ID_2404', 'ID_243', 'ID_2435', 'ID_245', \n",
    "                'ID_2553', 'ID_2564', 'ID_2598', 'ID_2626', 'ID_2627', 'ID_2635', 'ID_2636', 'ID_2648', 'ID_267', \n",
    "                'ID_2693', 'ID_27', 'ID_2737', 'ID_2750', 'ID_2760', 'ID_2762', 'ID_2766', 'ID_2779', 'ID_2809', \n",
    "                'ID_2867', 'ID_2881', 'ID_2924', 'ID_2933', 'ID_2977', 'ID_3019', 'ID_3098', 'ID_313', 'ID_3157', \n",
    "                'ID_3172', 'ID_3178', 'ID_3219', 'ID_3231', 'ID_324', 'ID_3268', 'ID_3308', 'ID_333', 'ID_3334', \n",
    "                'ID_3375', 'ID_3389', 'ID_3405', 'ID_3418', 'ID_3472', 'ID_3487', 'ID_3526', 'ID_3535', 'ID_3567',\n",
    "                'ID_3605', 'ID_3614', 'ID_362', 'ID_3633', 'ID_3640', 'ID_3644', 'ID_365', 'ID_367', 'ID_3672', \n",
    "                'ID_3699', 'ID_3726', 'ID_3730', 'ID_3781', 'ID_3799', 'ID_3800', 'ID_3809', 'ID_3837', 'ID_3848', \n",
    "                'ID_3850', 'ID_389', 'ID_3917', 'ID_3920', 'ID_3939', 'ID_3982', 'ID_401', 'ID_4016', 'ID_4040',\n",
    "                'ID_4042', 'ID_4058', 'ID_4072', 'ID_4076', 'ID_4199', 'ID_4204', 'ID_4206', 'ID_4224', 'ID_4275',\n",
    "                'ID_429', 'ID_4347', 'ID_4378', 'ID_4507', 'ID_4567','ID_466', 'ID_494', 'ID_514', 'ID_539', \n",
    "                'ID_582', 'ID_62', 'ID_71', 'ID_727', 'ID_731', 'ID_737', 'ID_825', 'ID_861', 'ID_869', 'ID_876', \n",
    "                'ID_889', 'ID_90', 'ID_922', 'ID_949', 'ID_969', 'ID_979', 'ID_981', 'ID_993']\n",
    "\n",
    "cb_333346_new = ['ID_1071', 'ID_1149', 'ID_1246', 'ID_1300', 'ID_1358', 'ID_1614', 'ID_1894', 'ID_1999', \n",
    "                 'ID_2142', 'ID_2198', 'ID_2274', 'ID_2331', 'ID_2400', 'ID_2438', 'ID_2495', 'ID_2710', \n",
    "                 'ID_2808', 'ID_3197', 'ID_3335', 'ID_418', 'ID_657', 'ID_773', 'ID_906', 'ID_962']\n",
    "\n",
    "cb_333519_new = ['ID_10', 'ID_1077', 'ID_1178', 'ID_1203', 'ID_1246', 'ID_1262', 'ID_1671', 'ID_1691', \n",
    "                 'ID_1999', 'ID_2198', 'ID_2495', 'ID_2569', 'ID_2619', 'ID_3180', 'ID_3308', 'ID_394', \n",
    "                 'ID_678', 'ID_793']\n"
   ]
  },
  {
   "cell_type": "code",
   "execution_count": 6,
   "id": "e4add15f",
   "metadata": {},
   "outputs": [],
   "source": [
    "cb = {333519: cb_333519+cb_333519_new, 333346: cb_333346+cb_333346_new}\n",
    "cb_6p = {333519: cb_333519_6p, 333346: cb_333346_6p}\n",
    "\n",
    "# cb = {333519: cb_333519, 333346: cb_333346}\n",
    "# cb_333346 = cb_333346+['ID_2274','ID_2198','ID_962', 'ID_657']"
   ]
  },
  {
   "cell_type": "markdown",
   "id": "fb22a548",
   "metadata": {},
   "source": [
    "# 2. Some Data wrangling"
   ]
  },
  {
   "cell_type": "code",
   "execution_count": 7,
   "id": "c4c5e008",
   "metadata": {
    "scrolled": true
   },
   "outputs": [],
   "source": [
    "data_expanded = data_heatmap.loc[data_heatmap.index.repeat(data_heatmap['clicks'])].reset_index(drop=True)\n",
    "\n",
    "max_width = data_expanded['display_width'].max()\n",
    "max_height = data_expanded['display_height'].max()\n",
    "\n",
    "width_bins = np.linspace(1, max_width, 61)\n",
    "height_bins = np.linspace(1, max_height, 51)\n",
    "\n",
    "data_expanded['click_x_bin'] = pd.cut(data_expanded['click_x'], \n",
    "                                      bins = width_bins, \n",
    "                                      labels=False, \n",
    "                                      include_lowest=True)\n",
    "\n",
    "data_expanded['click_y_bin'] = pd.cut(data_expanded['click_y'], \n",
    "                                      bins=height_bins, \n",
    "                                      labels=False, \n",
    "                                      include_lowest=True)\n",
    "\n",
    "\n",
    "aggregated_clicks = data_expanded.groupby(['grid_id',\n",
    "                                           'domain', \n",
    "                                           'click_x_bin', \n",
    "                                           'click_y_bin']).size().reset_index(name='clicks_sum')\n",
    "\n",
    "# cl_stat = aggregated_clicks.groupby(['click_x_bin','click_y_bin']).count().reset_index()\n",
    "# cl_stat = cl_stat[['click_x_bin','click_y_bin','clicks_sum']]\n",
    "# cl_stat['bin_prob'] = cl_stat['clicks_sum']/cl_stat['clicks_sum'].sum()\n",
    "\n",
    "aggregated_clicks_by_grid = aggregated_clicks.groupby([\n",
    "                                'grid_id','click_x_bin','click_y_bin'\n",
    "                            ]).sum('clicks_sum').reset_index()"
   ]
  },
  {
   "cell_type": "code",
   "execution_count": 8,
   "id": "adb4ccf1",
   "metadata": {},
   "outputs": [],
   "source": [
    "data_expanded_6p = data_heatmap_6p.loc[data_heatmap_6p.index.repeat(data_heatmap_6p['clicks'])].reset_index(drop=True)\n",
    "\n",
    "max_width = data_expanded_6p['display_width'].max()\n",
    "max_height = data_expanded_6p['display_height'].max()\n",
    "\n",
    "width_bins = np.linspace(1, max_width, 61)\n",
    "height_bins = np.linspace(1, max_height, 51)\n",
    "\n",
    "data_expanded_6p['click_x_bin'] = pd.cut(data_expanded_6p['click_x'], \n",
    "                                      bins = width_bins, \n",
    "                                      labels=False, \n",
    "                                      include_lowest=True)\n",
    "\n",
    "data_expanded_6p['click_y_bin'] = pd.cut(data_expanded_6p['click_y'], \n",
    "                                      bins=height_bins, \n",
    "                                      labels=False, \n",
    "                                      include_lowest=True)\n",
    "\n",
    "\n",
    "aggregated_clicks_6p = data_expanded_6p.groupby(['grid_id',\n",
    "                                           'domain', \n",
    "                                           'click_x_bin', \n",
    "                                           'click_y_bin']).size().reset_index(name='clicks_sum')\n",
    "\n",
    "\n",
    "aggregated_clicks_by_grid_6p = aggregated_clicks_6p.groupby([\n",
    "                                'grid_id','click_x_bin','click_y_bin'\n",
    "                            ]).sum('clicks_sum').reset_index()"
   ]
  },
  {
   "cell_type": "markdown",
   "id": "de7dc317",
   "metadata": {},
   "source": [
    "Calculate the empirical distribution for the working banners (i.e. $H_0$). To do this, we pick a representative banner from the same dataset. This is hence a one shot learning algorithm"
   ]
  },
  {
   "cell_type": "code",
   "execution_count": 9,
   "id": "73ae583c",
   "metadata": {},
   "outputs": [],
   "source": [
    "# save domains by grid id:\n",
    "domains_by_grid_id = pd.DataFrame(aggregated_clicks.groupby('grid_id')['domain'].unique()).reset_index()\n",
    "domains_by_grid_id_6p = pd.DataFrame(aggregated_clicks_6p.groupby('grid_id')['domain'].unique()).reset_index()"
   ]
  },
  {
   "cell_type": "code",
   "execution_count": 10,
   "id": "a90039e7",
   "metadata": {},
   "outputs": [],
   "source": [
    "def generate_preds(outputs, min, max):\n",
    "    # all_outputs = np.array(outputs[333346] + outputs[333519])\n",
    "    print(min)\n",
    "    print(max)\n",
    "    preds = {}\n",
    "    for g_id in [333346, 333519]:\n",
    "        preds_g_id = np.negative(np.array(outputs[g_id]))\n",
    "        preds_g_id = (np.array(outputs[g_id]) - max)/(min - max)\n",
    "        preds_g_id = [1 if preds_g_id[i] > 1 else preds_g_id[i] for i in range(len(preds_g_id))]\n",
    "        preds_g_id = [0 if preds_g_id[i] < 0 else preds_g_id[i] for i in range(len(preds_g_id))]\n",
    "        preds[g_id] = preds_g_id\n",
    "    return preds"
   ]
  },
  {
   "cell_type": "code",
   "execution_count": 11,
   "id": "bf65a957",
   "metadata": {},
   "outputs": [],
   "source": [
    "def combine_all_outputs(output_list):\n",
    "    return np.array(output_list[333346] + output_list[333519])"
   ]
  },
  {
   "cell_type": "code",
   "execution_count": 12,
   "id": "efedcb51",
   "metadata": {},
   "outputs": [],
   "source": [
    "def plot_heatmaps(heatmap_list, g_id):\n",
    "    for dom in heatmap_list:\n",
    "        data_obs = aggregated_clicks[(aggregated_clicks.grid_id == g_id) &\n",
    "                                    (aggregated_clicks.domain == dom)]\n",
    "        print(f'Total clicks for (grid_id, domain): ({g_id}, {dom}): {data_obs.clicks_sum.sum()}')\n",
    "        # data_obs['proba'] = data_obs['clicks_sum']/data_obs['clicks_sum'].sum()\n",
    "        # data_obs_enh = enhance_data(data_obs, 'proba', 10000, 1.5)\n",
    "        click_matrix = data_obs.pivot(\"click_y_bin\",\n",
    "                                        \"click_x_bin\",\n",
    "                                        \"clicks_sum\").fillna(0)\n",
    "        plt.figure(figsize=(8, 6))\n",
    "        sns.heatmap(click_matrix, \n",
    "                    cmap = \"YlGnBu\", \n",
    "                    annot = False, \n",
    "                    cbar = True, \n",
    "                    fmt = \"g\")\n",
    "        plt.title(f'Click Heatmap for id = {dom} and grid = {333519}')\n",
    "        plt.xlabel('click_x Bin')\n",
    "        plt.ylabel('click_y Bin')\n",
    "        plt.gca().invert_yaxis() \n",
    "        plt.show()"
   ]
  },
  {
   "cell_type": "code",
   "execution_count": 13,
   "id": "66f2805c",
   "metadata": {},
   "outputs": [],
   "source": [
    "def plot_heatmap_from_distribution(heatmap):\n",
    "    click_matrix = heatmap.pivot(\"click_y_bin\",\n",
    "                                    \"click_x_bin\",\n",
    "                                    \"proba\").fillna(0)\n",
    "    plt.figure(figsize=(8, 6))\n",
    "    sns.heatmap(click_matrix, \n",
    "                cmap = \"YlGnBu\", \n",
    "                annot = False, \n",
    "                cbar = True, \n",
    "                fmt = \"g\")\n",
    "    plt.title(f'Click Heatmap')\n",
    "    plt.xlabel('click_x Bin')\n",
    "    plt.ylabel('click_y Bin')\n",
    "    plt.gca().invert_yaxis() \n",
    "    plt.show()"
   ]
  },
  {
   "cell_type": "code",
   "execution_count": 14,
   "id": "3d609775",
   "metadata": {},
   "outputs": [],
   "source": [
    "def plot_roc_curve(all_labels, all_preds):\n",
    "    # Calculate ROC curve\n",
    "    fpr, tpr, thresholds = roc_curve(all_labels, all_preds)\n",
    "\n",
    "    # Calculate AUC score\n",
    "    auc = roc_auc_score(all_labels, all_preds)\n",
    "\n",
    "    # Plot ROC curve\n",
    "    plt.plot(fpr, tpr, label=f'AUC = {auc:.2f}')\n",
    "    plt.plot([0, 1], [0, 1], 'k--') # Diagonal line\n",
    "    plt.xlim([0.0, 1.0])\n",
    "    plt.ylim([0.0, 1.05])\n",
    "    plt.xlabel('False Positive Rate')\n",
    "    plt.ylabel('True Positive Rate')\n",
    "    plt.title('Receiver Operating Characteristic')\n",
    "    plt.legend(loc=\"lower right\")\n",
    "    plt.show()\n",
    "    return auc"
   ]
  },
  {
   "cell_type": "code",
   "execution_count": 21,
   "id": "05a082da",
   "metadata": {},
   "outputs": [],
   "source": [
    "def calculate_all_f1(all_labels, all_preds):\n",
    "    threshs = np.linspace(1,0.01,100)\n",
    "    best_f1 = 0\n",
    "    best_thresh = 0\n",
    "    all_f1 = []\n",
    "    for thresh in threshs:\n",
    "        all_preds_cut_off = [1 if all_preds[i] > thresh else 0 for i in range(len(all_preds))]\n",
    "        f1 = f1_score(all_labels, all_preds_cut_off, average='binary')\n",
    "        \n",
    "        if best_f1 < f1:\n",
    "            best_f1 = f1\n",
    "            best_thresh = thresh\n",
    "        all_f1.append(f1)\n",
    "        # print(f1)\n",
    "    return all_f1, best_f1, best_thresh"
   ]
  },
  {
   "cell_type": "code",
   "execution_count": 16,
   "id": "82dcba88",
   "metadata": {},
   "outputs": [],
   "source": [
    "def identify_misclassified_banners(domains, preds, labels, thresh):\n",
    "    fn = {}\n",
    "    fp = {}\n",
    "    # for each g_id\n",
    "    for g_id in [333346, 333519]:\n",
    "        fn_g_id = []\n",
    "        fp_g_id = []\n",
    "        domains_g_id = domains[g_id]\n",
    "        # round preds to 0 and 1 for g_id\n",
    "        preds_rounded = [0 if preds[g_id][i] < thresh else 1 for i in range(len(preds[g_id]))] \n",
    "        # for each banner\n",
    "        for ind in range(len(domains[g_id])):\n",
    "            if preds_rounded[ind] == 0 and labels[g_id][ind] == 1: # False negative\n",
    "                fn_g_id.append(domains_g_id[ind])\n",
    "            elif preds_rounded[ind] == 1 and labels[g_id][ind] == 0: # False positive\n",
    "                fp_g_id.append(domains_g_id[ind])\n",
    "        fn[g_id] = fn_g_id\n",
    "        fp[g_id] = fp_g_id\n",
    "    return fn, fp"
   ]
  },
  {
   "cell_type": "code",
   "execution_count": 17,
   "id": "387d5fd2",
   "metadata": {},
   "outputs": [],
   "source": [
    "def plot_false_heatmaps(aggregated_clicks, heatmap_dict_by_gid, dataset, which_false, notebook_name):\n",
    "    for g_id in [333346, 333519]:\n",
    "        nb_clicks_per_heatmap = []\n",
    "        heatmap_list = heatmap_dict_by_gid[g_id]\n",
    "        for dom in heatmap_list:\n",
    "            data_obs = aggregated_clicks[(aggregated_clicks.grid_id == g_id) &\n",
    "                                        (aggregated_clicks.domain == dom)]\n",
    "            print(f'Total clicks for (grid_id, domain): ({g_id}, {dom}): {data_obs.clicks_sum.sum()}')\n",
    "            nb_clicks_per_heatmap.append((dom,data_obs.clicks_sum.sum()))\n",
    "            # data_obs['proba'] = data_obs['clicks_sum']/data_obs['clicks_sum'].sum()\n",
    "            # data_obs_enh = enhance_data(data_obs, 'proba', 10000, 1.5)\n",
    "            click_matrix = data_obs.pivot(\"click_y_bin\",\n",
    "                                            \"click_x_bin\",\n",
    "                                            \"clicks_sum\").fillna(0)\n",
    "            plt.figure(figsize=(8, 6))\n",
    "            sns.heatmap(click_matrix, \n",
    "                        cmap = \"YlGnBu\", \n",
    "                        annot = False, \n",
    "                        cbar = True, \n",
    "                        fmt = \"g\")\n",
    "            plt.title(f'Click Heatmap for id = {dom} and grid = {g_id}, nb clicks = {data_obs.clicks_sum.sum()}')\n",
    "            plt.xlabel('click_x Bin')\n",
    "            plt.ylabel('click_y Bin')\n",
    "            plt.gca().invert_yaxis() \n",
    "            # plt.show()\n",
    "            plt.savefig(f'Stat_approach_output/{notebook_name}/{dataset}/{which_false}/{g_id}/{dom}.jpg')\n",
    "        heatmap_dict_by_gid[g_id] = nb_clicks_per_heatmap\n",
    "    return heatmap_dict_by_gid"
   ]
  },
  {
   "cell_type": "markdown",
   "id": "1d6249cd",
   "metadata": {},
   "source": [
    "# Actual work begins here"
   ]
  },
  {
   "cell_type": "code",
   "execution_count": 34,
   "id": "8bec9c85",
   "metadata": {},
   "outputs": [],
   "source": [
    "import pickle\n",
    "with open('Stat_approach_output/test_4.pkl', 'rb') as f:\n",
    "    check_results = pickle.load(f)"
   ]
  },
  {
   "cell_type": "code",
   "execution_count": 35,
   "id": "f2b383c9",
   "metadata": {},
   "outputs": [],
   "source": [
    "time_per_banner_old = check_results['old']['time_per_banner']\n",
    "outputs_old = check_results['old']['outputs'] # LRT outputs\n",
    "labels_old = check_results['old']['labels']\n",
    "domains_old = check_results['old']['domains']"
   ]
  },
  {
   "cell_type": "code",
   "execution_count": 36,
   "id": "b23d53b8",
   "metadata": {},
   "outputs": [],
   "source": [
    "time_per_banner_new = check_results['new']['time_per_banner']\n",
    "outputs_new = check_results['new']['outputs']\n",
    "labels_new = check_results['new']['labels']\n",
    "domains_new = check_results['new']['domains']"
   ]
  },
  {
   "cell_type": "code",
   "execution_count": 37,
   "id": "016a6f63",
   "metadata": {},
   "outputs": [
    {
     "name": "stdout",
     "output_type": "stream",
     "text": [
      "-3981.5928529666853\n",
      "1433.5172930571907\n"
     ]
    },
    {
     "data": {
      "image/png": "[encoded data removed]",
      "text/plain": [
       "<Figure size 640x480 with 1 Axes>"
      ]
     },
     "metadata": {},
     "output_type": "display_data"
    },
    {
     "name": "stdout",
     "output_type": "stream",
     "text": [
      "Time per banner:  0.059601034515521734\n",
      "Best f1 is 0.91 at threshold 0.27\n",
      "Confusion matrix at best threshold: \n",
      "[[1507   14]\n",
      " [  22  190]]\n",
      "AUC:  0.9884137794152308\n"
     ]
    }
   ],
   "source": [
    "import numpy as np\n",
    "import pandas as pd\n",
    "import matplotlib.pyplot as plt\n",
    "import seaborn as sns\n",
    "import warnings\n",
    "import time\n",
    "import matplotlib.pyplot as plt\n",
    "from sklearn.metrics import confusion_matrix\n",
    "from sklearn.metrics import roc_curve, roc_auc_score\n",
    "from sklearn.metrics import f1_score\n",
    "warnings.filterwarnings('ignore')\n",
    "\n",
    "preds_old = generate_preds(outputs_old, min(outputs_old[333346] + outputs_old[333519]), max(outputs_old[333346] + outputs_old[333519]))\n",
    "all_labels_old = combine_all_outputs(labels_old)\n",
    "all_preds_old = combine_all_outputs(preds_old)\n",
    "all_outputs_old = combine_all_outputs(outputs_old)\n",
    "all_f1_old, best_f1_old, best_thresh_old = calculate_all_f1(all_labels_old, all_preds_old)\n",
    "all_preds_rounded_old = [1 if all_preds_old[i] > best_thresh_old else 0 for i in range(len(all_preds_old))]\n",
    "fn_old, fp_old = identify_misclassified_banners(domains_old, preds_old, labels_old, best_thresh_old)\n",
    "auc_old = plot_roc_curve(all_labels_old, all_preds_old)\n",
    "\n",
    "print(\"Time per banner: \", time_per_banner_old) # time per domain\n",
    "print(f\"Best f1 is {round(best_f1_old, 2)} at threshold {round(best_thresh_old, 2)}\")\n",
    "print(\"Confusion matrix at best threshold: \")\n",
    "print(confusion_matrix(all_labels_old, all_preds_rounded_old)) # true (rows), predicted (columns) \n",
    "print(\"AUC: \", auc_old)"
   ]
  },
  {
   "cell_type": "code",
   "execution_count": 38,
   "id": "7c347545",
   "metadata": {},
   "outputs": [
    {
     "name": "stdout",
     "output_type": "stream",
     "text": [
      "-6014.806533648776\n",
      "1076.6029136375191\n"
     ]
    },
    {
     "data": {
      "image/png": "[encoded data removed]",
      "text/plain": [
       "<Figure size 640x480 with 1 Axes>"
      ]
     },
     "metadata": {},
     "output_type": "display_data"
    },
    {
     "name": "stdout",
     "output_type": "stream",
     "text": [
      "Time per banner:  0.1022636613436658\n",
      "Best f1 is 0.83 at threshold 0.17\n",
      "Confusion matrix at best threshold: \n",
      "[[2768   36]\n",
      " [  39  187]]\n",
      "AUC:  0.9668820143158321\n"
     ]
    }
   ],
   "source": [
    "import numpy as np\n",
    "import pandas as pd\n",
    "import matplotlib.pyplot as plt\n",
    "import seaborn as sns\n",
    "import warnings\n",
    "import time\n",
    "import matplotlib.pyplot as plt\n",
    "from sklearn.metrics import confusion_matrix\n",
    "from sklearn.metrics import roc_curve, roc_auc_score\n",
    "from sklearn.metrics import f1_score\n",
    "warnings.filterwarnings('ignore')\n",
    "\n",
    "preds_new = generate_preds(outputs_new, min(outputs_new[333346] + outputs_new[333519]), max(outputs_new[333346] + outputs_new[333519]))\n",
    "all_labels_new = combine_all_outputs(labels_new)\n",
    "all_preds_new = combine_all_outputs(preds_new)\n",
    "all_outputs_new = combine_all_outputs(outputs_new)\n",
    "all_f1_new, best_f1_new, best_thresh_new = calculate_all_f1(all_labels_new, all_preds_new)\n",
    "all_preds_rounded_new = [1 if all_preds_new[i] > best_thresh_new else 0 for i in range(len(all_preds_new))]\n",
    "fn_new, fp_new = identify_misclassified_banners(domains_new, preds_new, labels_new, best_thresh_new)\n",
    "auc_new = plot_roc_curve(all_labels_new, all_preds_new)\n",
    "\n",
    "print(\"Time per banner: \", time_per_banner_new) # time per domain\n",
    "print(f\"Best f1 is {round(best_f1_new, 2)} at threshold {round(best_thresh_new, 2)}\")\n",
    "print(\"Confusion matrix at best threshold: \")\n",
    "print(confusion_matrix(all_labels_new, all_preds_rounded_new)) # true (rows), predicted (columns) \n",
    "print(\"AUC: \", auc_new)"
   ]
  },
  {
   "cell_type": "code",
   "execution_count": 43,
   "id": "1ff2bf2e",
   "metadata": {},
   "outputs": [
    {
     "data": {
      "text/plain": [
       "0.22999999999999998"
      ]
     },
     "execution_count": 43,
     "metadata": {},
     "output_type": "execute_result"
    }
   ],
   "source": [
    "best_thresh_old"
   ]
  },
  {
   "cell_type": "code",
   "execution_count": 44,
   "id": "ed86fd4f",
   "metadata": {},
   "outputs": [
    {
     "data": {
      "text/plain": [
       "0.25"
      ]
     },
     "execution_count": 44,
     "metadata": {},
     "output_type": "execute_result"
    }
   ],
   "source": [
    "best_thresh_new"
   ]
  },
  {
   "cell_type": "code",
   "execution_count": 47,
   "id": "9c56af09",
   "metadata": {},
   "outputs": [
    {
     "data": {
      "text/plain": [
       "0.8415584415584415"
      ]
     },
     "execution_count": 47,
     "metadata": {},
     "output_type": "execute_result"
    }
   ],
   "source": [
    "all_preds_binary_old = np.where(all_preds_old >= best_thresh_new, 1, 0)\n",
    "f1_score(all_labels_old, all_preds_binary_old)"
   ]
  },
  {
   "cell_type": "code",
   "execution_count": 48,
   "id": "56936320",
   "metadata": {},
   "outputs": [
    {
     "data": {
      "text/plain": [
       "0.7889908256880733"
      ]
     },
     "execution_count": 48,
     "metadata": {},
     "output_type": "execute_result"
    }
   ],
   "source": [
    "all_preds_binary_new = np.where(all_preds_new >= best_thresh_old, 1, 0)\n",
    "# confusion_matrix(all_labels_new, all_preds_binary_new)\n",
    "f1_score(all_labels_new, all_preds_binary_new)\n"
   ]
  },
  {
   "cell_type": "code",
   "execution_count": 31,
   "id": "76c15369",
   "metadata": {},
   "outputs": [],
   "source": [
    "# def plot_roc_curve(all_labels, all_preds):\n",
    "#     # Calculate ROC curve\n",
    "#     fpr, tpr, thresholds = roc_curve(all_labels, all_preds)\n",
    "\n",
    "#     # Calculate AUC score\n",
    "#     auc = roc_auc_score(all_labels, all_preds)\n",
    "\n",
    "#     # Plot ROC curve\n",
    "#     plt.plot(fpr, tpr, label=f'AUC = {auc:.2f}')\n",
    "#     plt.plot([0, 1], [0, 1], 'k--') # Diagonal line\n",
    "#     plt.xlim([0.0, 1.0])\n",
    "#     plt.ylim([0.0, 1.05])\n",
    "#     plt.xlabel('False Positive Rate')\n",
    "#     plt.ylabel('True Positive Rate')\n",
    "#     plt.title('Receiver Operating Characteristic')\n",
    "#     plt.legend(loc=\"lower right\")\n",
    "#     plt.show()\n",
    "#     return auc"
   ]
  }
 ],
 "metadata": {
  "kernelspec": {
   "display_name": "Python 3 (ipykernel)",
   "language": "python",
   "name": "python3"
  },
  "language_info": {
   "codemirror_mode": {
    "name": "ipython",
    "version": 3
   },
   "file_extension": ".py",
   "mimetype": "text/x-python",
   "name": "python",
   "nbconvert_exporter": "python",
   "pygments_lexer": "ipython3",
   "version": "3.8.18"
  }
 },
 "nbformat": 4,
 "nbformat_minor": 5
}
